{
 "cells": [
  {
   "cell_type": "markdown",
   "id": "d1cbd689-79bb-467d-a5ad-8dc64210440c",
   "metadata": {},
   "source": [
    "## Maternal Mental Health and Infant Sleep\n",
    "### Author: Isabella Xue"
   ]
  },
  {
   "cell_type": "markdown",
   "id": "9184b79b-e291-4b2e-9e77-d0196c46d387",
   "metadata": {},
   "source": [
    "all the questionnaire questions are originally in French. Original texts can be found in Codebook_maternal_mental_health_infant_sleep.xlsx."
   ]
  },
  {
   "cell_type": "code",
   "execution_count": 361,
   "id": "3d57c1f2-3b22-43fa-96e0-56bc24017817",
   "metadata": {},
   "outputs": [],
   "source": [
    "import pandas as pd\n",
    "import matplotlib.pyplot as plt\n",
    "from sklearn.linear_model import LinearRegression\n",
    "from sklearn.ensemble import RandomForestClassifier\n",
    "from sklearn.model_selection import train_test_split\n",
    "from sklearn import metrics\n",
    "from sklearn.linear_model import LogisticRegression\n",
    "from sklearn.svm import SVC\n",
    "from sklearn.preprocessing import MinMaxScaler\n",
    "from sklearn.model_selection import RandomizedSearchCV\n",
    "from scipy.stats import randint\n",
    "from sklearn.model_selection import GridSearchCV, cross_val_score, KFold\n",
    "from sklearn.naive_bayes import GaussianNB"
   ]
  },
  {
   "cell_type": "code",
   "execution_count": 362,
   "id": "2b7959ce-3d54-4f72-be8a-0b0b48a0ff03",
   "metadata": {},
   "outputs": [
    {
     "name": "stderr",
     "output_type": "stream",
     "text": [
      "/var/folders/50/cr_04dgs14bf0wgx8frly6s40000gn/T/ipykernel_98820/1102089995.py:1: DtypeWarning: Columns (6,61) have mixed types. Specify dtype option on import or set low_memory=False.\n",
      "  df = pd.read_csv('Dataset_maternal_mental_health_infant_sleep.csv', encoding='latin-1')\n"
     ]
    }
   ],
   "source": [
    "df = pd.read_csv('Dataset_maternal_mental_health_infant_sleep.csv', encoding='latin-1')"
   ]
  },
  {
   "cell_type": "code",
   "execution_count": 363,
   "id": "fc5b8b56-4bd7-4407-a80e-24fece8c4a9a",
   "metadata": {},
   "outputs": [
    {
     "data": {
      "text/html": [
       "<div>\n",
       "<style scoped>\n",
       "    .dataframe tbody tr th:only-of-type {\n",
       "        vertical-align: middle;\n",
       "    }\n",
       "\n",
       "    .dataframe tbody tr th {\n",
       "        vertical-align: top;\n",
       "    }\n",
       "\n",
       "    .dataframe thead th {\n",
       "        text-align: right;\n",
       "    }\n",
       "</style>\n",
       "<table border=\"1\" class=\"dataframe\">\n",
       "  <thead>\n",
       "    <tr style=\"text-align: right;\">\n",
       "      <th></th>\n",
       "      <th>Participant_number</th>\n",
       "      <th>Type_parents</th>\n",
       "      <th>Birth_1mth_M_inclusion</th>\n",
       "      <th>Birth_12mth_M_inclusion</th>\n",
       "      <th>Age</th>\n",
       "      <th>Marital_status</th>\n",
       "      <th>Marital_status_Autre</th>\n",
       "      <th>Marital_status_edit</th>\n",
       "      <th>Education</th>\n",
       "      <th>Gestationnal_age</th>\n",
       "      <th>...</th>\n",
       "      <th>IBQ_R_VSF_10_bb1</th>\n",
       "      <th>IBQ_R_VSF_16_bb1</th>\n",
       "      <th>IBQ_R_VSF_17_bb1</th>\n",
       "      <th>IBQ_R_VSF_28_bb1</th>\n",
       "      <th>IBQ_R_VSF_29_bb1</th>\n",
       "      <th>IBQ_R_VSF_32_bb1</th>\n",
       "      <th>IBQ_R_VSF_33_bb1</th>\n",
       "      <th>Sleep_night_duration_bb1</th>\n",
       "      <th>night_awakening_number_bb1</th>\n",
       "      <th>how_falling_asleep_bb1</th>\n",
       "    </tr>\n",
       "  </thead>\n",
       "  <tbody>\n",
       "    <tr>\n",
       "      <th>0</th>\n",
       "      <td>1.0</td>\n",
       "      <td>1.0</td>\n",
       "      <td>1.0</td>\n",
       "      <td>1.0</td>\n",
       "      <td>34.0</td>\n",
       "      <td>2.0</td>\n",
       "      <td>NaN</td>\n",
       "      <td>2.0</td>\n",
       "      <td>5.0</td>\n",
       "      <td>37.0</td>\n",
       "      <td>...</td>\n",
       "      <td>NaN</td>\n",
       "      <td>7.0</td>\n",
       "      <td>NaN</td>\n",
       "      <td>NaN</td>\n",
       "      <td>7.0</td>\n",
       "      <td>6.0</td>\n",
       "      <td>NaN</td>\n",
       "      <td>10:00</td>\n",
       "      <td>3.0</td>\n",
       "      <td>2.0</td>\n",
       "    </tr>\n",
       "    <tr>\n",
       "      <th>1</th>\n",
       "      <td>2.0</td>\n",
       "      <td>1.0</td>\n",
       "      <td>1.0</td>\n",
       "      <td>1.0</td>\n",
       "      <td>33.0</td>\n",
       "      <td>2.0</td>\n",
       "      <td>NaN</td>\n",
       "      <td>2.0</td>\n",
       "      <td>5.0</td>\n",
       "      <td>42.0</td>\n",
       "      <td>...</td>\n",
       "      <td>2.0</td>\n",
       "      <td>3.0</td>\n",
       "      <td>2.0</td>\n",
       "      <td>2.0</td>\n",
       "      <td>2.0</td>\n",
       "      <td>3.0</td>\n",
       "      <td>4.0</td>\n",
       "      <td>11:00</td>\n",
       "      <td>0.0</td>\n",
       "      <td>4.0</td>\n",
       "    </tr>\n",
       "    <tr>\n",
       "      <th>2</th>\n",
       "      <td>3.0</td>\n",
       "      <td>1.0</td>\n",
       "      <td>1.0</td>\n",
       "      <td>1.0</td>\n",
       "      <td>37.0</td>\n",
       "      <td>2.0</td>\n",
       "      <td>NaN</td>\n",
       "      <td>2.0</td>\n",
       "      <td>5.0</td>\n",
       "      <td>41.0</td>\n",
       "      <td>...</td>\n",
       "      <td>4.0</td>\n",
       "      <td>4.0</td>\n",
       "      <td>3.0</td>\n",
       "      <td>1.0</td>\n",
       "      <td>4.0</td>\n",
       "      <td>NaN</td>\n",
       "      <td>NaN</td>\n",
       "      <td>12:00</td>\n",
       "      <td>1.0</td>\n",
       "      <td>2.0</td>\n",
       "    </tr>\n",
       "    <tr>\n",
       "      <th>3</th>\n",
       "      <td>4.0</td>\n",
       "      <td>1.0</td>\n",
       "      <td>1.0</td>\n",
       "      <td>1.0</td>\n",
       "      <td>31.0</td>\n",
       "      <td>2.0</td>\n",
       "      <td>NaN</td>\n",
       "      <td>2.0</td>\n",
       "      <td>5.0</td>\n",
       "      <td>37.5</td>\n",
       "      <td>...</td>\n",
       "      <td>1.0</td>\n",
       "      <td>3.0</td>\n",
       "      <td>NaN</td>\n",
       "      <td>NaN</td>\n",
       "      <td>NaN</td>\n",
       "      <td>5.0</td>\n",
       "      <td>NaN</td>\n",
       "      <td>11:00</td>\n",
       "      <td>2.0</td>\n",
       "      <td>1.0</td>\n",
       "    </tr>\n",
       "    <tr>\n",
       "      <th>4</th>\n",
       "      <td>5.0</td>\n",
       "      <td>1.0</td>\n",
       "      <td>1.0</td>\n",
       "      <td>1.0</td>\n",
       "      <td>36.0</td>\n",
       "      <td>1.0</td>\n",
       "      <td>NaN</td>\n",
       "      <td>1.0</td>\n",
       "      <td>5.0</td>\n",
       "      <td>40.0</td>\n",
       "      <td>...</td>\n",
       "      <td>4.0</td>\n",
       "      <td>2.0</td>\n",
       "      <td>2.0</td>\n",
       "      <td>4.0</td>\n",
       "      <td>5.0</td>\n",
       "      <td>6.0</td>\n",
       "      <td>6.0</td>\n",
       "      <td>10:30</td>\n",
       "      <td>1.0</td>\n",
       "      <td>4.0</td>\n",
       "    </tr>\n",
       "    <tr>\n",
       "      <th>...</th>\n",
       "      <td>...</td>\n",
       "      <td>...</td>\n",
       "      <td>...</td>\n",
       "      <td>...</td>\n",
       "      <td>...</td>\n",
       "      <td>...</td>\n",
       "      <td>...</td>\n",
       "      <td>...</td>\n",
       "      <td>...</td>\n",
       "      <td>...</td>\n",
       "      <td>...</td>\n",
       "      <td>...</td>\n",
       "      <td>...</td>\n",
       "      <td>...</td>\n",
       "      <td>...</td>\n",
       "      <td>...</td>\n",
       "      <td>...</td>\n",
       "      <td>...</td>\n",
       "      <td>...</td>\n",
       "      <td>...</td>\n",
       "      <td>...</td>\n",
       "    </tr>\n",
       "    <tr>\n",
       "      <th>405</th>\n",
       "      <td>406.0</td>\n",
       "      <td>1.0</td>\n",
       "      <td>1.0</td>\n",
       "      <td>1.0</td>\n",
       "      <td>31.0</td>\n",
       "      <td>2.0</td>\n",
       "      <td>NaN</td>\n",
       "      <td>2.0</td>\n",
       "      <td>3.0</td>\n",
       "      <td>39.5</td>\n",
       "      <td>...</td>\n",
       "      <td>6.0</td>\n",
       "      <td>6.0</td>\n",
       "      <td>NaN</td>\n",
       "      <td>NaN</td>\n",
       "      <td>4.0</td>\n",
       "      <td>2.0</td>\n",
       "      <td>NaN</td>\n",
       "      <td>09:00</td>\n",
       "      <td>1.0</td>\n",
       "      <td>2.0</td>\n",
       "    </tr>\n",
       "    <tr>\n",
       "      <th>406</th>\n",
       "      <td>407.0</td>\n",
       "      <td>1.0</td>\n",
       "      <td>1.0</td>\n",
       "      <td>1.0</td>\n",
       "      <td>26.0</td>\n",
       "      <td>2.0</td>\n",
       "      <td>NaN</td>\n",
       "      <td>2.0</td>\n",
       "      <td>2.0</td>\n",
       "      <td>37.0</td>\n",
       "      <td>...</td>\n",
       "      <td>1.0</td>\n",
       "      <td>2.0</td>\n",
       "      <td>1.0</td>\n",
       "      <td>1.0</td>\n",
       "      <td>1.0</td>\n",
       "      <td>2.0</td>\n",
       "      <td>1.0</td>\n",
       "      <td>12:00</td>\n",
       "      <td>0.0</td>\n",
       "      <td>4.0</td>\n",
       "    </tr>\n",
       "    <tr>\n",
       "      <th>407</th>\n",
       "      <td>408.0</td>\n",
       "      <td>1.0</td>\n",
       "      <td>1.0</td>\n",
       "      <td>1.0</td>\n",
       "      <td>26.0</td>\n",
       "      <td>2.0</td>\n",
       "      <td>NaN</td>\n",
       "      <td>2.0</td>\n",
       "      <td>5.0</td>\n",
       "      <td>39.0</td>\n",
       "      <td>...</td>\n",
       "      <td>1.0</td>\n",
       "      <td>2.0</td>\n",
       "      <td>1.0</td>\n",
       "      <td>3.0</td>\n",
       "      <td>2.0</td>\n",
       "      <td>3.0</td>\n",
       "      <td>2.0</td>\n",
       "      <td>10:00</td>\n",
       "      <td>2.0</td>\n",
       "      <td>5.0</td>\n",
       "    </tr>\n",
       "    <tr>\n",
       "      <th>408</th>\n",
       "      <td>409.0</td>\n",
       "      <td>1.0</td>\n",
       "      <td>1.0</td>\n",
       "      <td>1.0</td>\n",
       "      <td>27.0</td>\n",
       "      <td>2.0</td>\n",
       "      <td>NaN</td>\n",
       "      <td>2.0</td>\n",
       "      <td>5.0</td>\n",
       "      <td>41.2</td>\n",
       "      <td>...</td>\n",
       "      <td>1.0</td>\n",
       "      <td>2.0</td>\n",
       "      <td>1.0</td>\n",
       "      <td>1.0</td>\n",
       "      <td>2.0</td>\n",
       "      <td>2.0</td>\n",
       "      <td>1.0</td>\n",
       "      <td>11:30</td>\n",
       "      <td>0.0</td>\n",
       "      <td>4.0</td>\n",
       "    </tr>\n",
       "    <tr>\n",
       "      <th>409</th>\n",
       "      <td>410.0</td>\n",
       "      <td>1.0</td>\n",
       "      <td>1.0</td>\n",
       "      <td>1.0</td>\n",
       "      <td>31.0</td>\n",
       "      <td>2.0</td>\n",
       "      <td>NaN</td>\n",
       "      <td>2.0</td>\n",
       "      <td>5.0</td>\n",
       "      <td>38.0</td>\n",
       "      <td>...</td>\n",
       "      <td>1.0</td>\n",
       "      <td>6.0</td>\n",
       "      <td>1.0</td>\n",
       "      <td>2.0</td>\n",
       "      <td>NaN</td>\n",
       "      <td>2.0</td>\n",
       "      <td>NaN</td>\n",
       "      <td>12:00</td>\n",
       "      <td>0.0</td>\n",
       "      <td>4.0</td>\n",
       "    </tr>\n",
       "  </tbody>\n",
       "</table>\n",
       "<p>410 rows × 64 columns</p>\n",
       "</div>"
      ],
      "text/plain": [
       "     Participant_number  Type_parents  Birth_1mth_M_inclusion  \\\n",
       "0                   1.0           1.0                     1.0   \n",
       "1                   2.0           1.0                     1.0   \n",
       "2                   3.0           1.0                     1.0   \n",
       "3                   4.0           1.0                     1.0   \n",
       "4                   5.0           1.0                     1.0   \n",
       "..                  ...           ...                     ...   \n",
       "405               406.0           1.0                     1.0   \n",
       "406               407.0           1.0                     1.0   \n",
       "407               408.0           1.0                     1.0   \n",
       "408               409.0           1.0                     1.0   \n",
       "409               410.0           1.0                     1.0   \n",
       "\n",
       "     Birth_12mth_M_inclusion   Age  Marital_status Marital_status_Autre  \\\n",
       "0                        1.0  34.0             2.0                  NaN   \n",
       "1                        1.0  33.0             2.0                  NaN   \n",
       "2                        1.0  37.0             2.0                  NaN   \n",
       "3                        1.0  31.0             2.0                  NaN   \n",
       "4                        1.0  36.0             1.0                  NaN   \n",
       "..                       ...   ...             ...                  ...   \n",
       "405                      1.0  31.0             2.0                  NaN   \n",
       "406                      1.0  26.0             2.0                  NaN   \n",
       "407                      1.0  26.0             2.0                  NaN   \n",
       "408                      1.0  27.0             2.0                  NaN   \n",
       "409                      1.0  31.0             2.0                  NaN   \n",
       "\n",
       "     Marital_status_edit  Education  Gestationnal_age  ...  IBQ_R_VSF_10_bb1  \\\n",
       "0                    2.0        5.0              37.0  ...               NaN   \n",
       "1                    2.0        5.0              42.0  ...               2.0   \n",
       "2                    2.0        5.0              41.0  ...               4.0   \n",
       "3                    2.0        5.0              37.5  ...               1.0   \n",
       "4                    1.0        5.0              40.0  ...               4.0   \n",
       "..                   ...        ...               ...  ...               ...   \n",
       "405                  2.0        3.0              39.5  ...               6.0   \n",
       "406                  2.0        2.0              37.0  ...               1.0   \n",
       "407                  2.0        5.0              39.0  ...               1.0   \n",
       "408                  2.0        5.0              41.2  ...               1.0   \n",
       "409                  2.0        5.0              38.0  ...               1.0   \n",
       "\n",
       "     IBQ_R_VSF_16_bb1  IBQ_R_VSF_17_bb1  IBQ_R_VSF_28_bb1  IBQ_R_VSF_29_bb1  \\\n",
       "0                 7.0               NaN               NaN               7.0   \n",
       "1                 3.0               2.0               2.0               2.0   \n",
       "2                 4.0               3.0               1.0               4.0   \n",
       "3                 3.0               NaN               NaN               NaN   \n",
       "4                 2.0               2.0               4.0               5.0   \n",
       "..                ...               ...               ...               ...   \n",
       "405               6.0               NaN               NaN               4.0   \n",
       "406               2.0               1.0               1.0               1.0   \n",
       "407               2.0               1.0               3.0               2.0   \n",
       "408               2.0               1.0               1.0               2.0   \n",
       "409               6.0               1.0               2.0               NaN   \n",
       "\n",
       "     IBQ_R_VSF_32_bb1  IBQ_R_VSF_33_bb1  Sleep_night_duration_bb1  \\\n",
       "0                 6.0               NaN                     10:00   \n",
       "1                 3.0               4.0                     11:00   \n",
       "2                 NaN               NaN                     12:00   \n",
       "3                 5.0               NaN                     11:00   \n",
       "4                 6.0               6.0                     10:30   \n",
       "..                ...               ...                       ...   \n",
       "405               2.0               NaN                     09:00   \n",
       "406               2.0               1.0                     12:00   \n",
       "407               3.0               2.0                     10:00   \n",
       "408               2.0               1.0                     11:30   \n",
       "409               2.0               NaN                     12:00   \n",
       "\n",
       "     night_awakening_number_bb1  how_falling_asleep_bb1  \n",
       "0                           3.0                     2.0  \n",
       "1                           0.0                     4.0  \n",
       "2                           1.0                     2.0  \n",
       "3                           2.0                     1.0  \n",
       "4                           1.0                     4.0  \n",
       "..                          ...                     ...  \n",
       "405                         1.0                     2.0  \n",
       "406                         0.0                     4.0  \n",
       "407                         2.0                     5.0  \n",
       "408                         0.0                     4.0  \n",
       "409                         0.0                     4.0  \n",
       "\n",
       "[410 rows x 64 columns]"
      ]
     },
     "execution_count": 363,
     "metadata": {},
     "output_type": "execute_result"
    }
   ],
   "source": [
    "df.dropna(how='all', inplace=True)\n",
    "df"
   ]
  },
  {
   "cell_type": "code",
   "execution_count": 365,
   "id": "1d372a91-23e1-41cf-b522-48eb0d951e75",
   "metadata": {},
   "outputs": [
    {
     "data": {
      "text/plain": [
       "Index(['Participant_number', 'Type_parents', 'Birth_1mth_M_inclusion',\n",
       "       'Birth_12mth_M_inclusion', 'Age', 'Marital_status',\n",
       "       'Marital_status_Autre', 'Marital_status_edit', 'Education',\n",
       "       'Gestationnal_age', 'Type_pregnancy', 'sex_baby1', 'CBTS_M_3',\n",
       "       'CBTS_M_4', 'CBTS_M_5', 'CBTS_M_6', 'CBTS_M_7', 'CBTS_M_8', 'CBTS_M_9',\n",
       "       'CBTS_M_10', 'CBTS_M_11', 'CBTS_M_12', 'CBTS_13', 'CBTS_14', 'CBTS_15',\n",
       "       'CBTS_16', 'CBTS_17', 'CBTS_18', 'CBTS_19', 'CBTS_20', 'CBTS_21',\n",
       "       'CBTS_22', 'EPDS_1', 'EPDS_2', 'EPDS_3', 'EPDS_4', 'EPDS_5', 'EPDS_6',\n",
       "       'EPDS_7', 'EPDS_8', 'EPDS_9', 'EPDS_10', 'HADS_1', 'HADS_3', 'HADS_5',\n",
       "       'HADS_7', 'HADS_9', 'HADS_11', 'HADS_13', 'Child_survey_participation',\n",
       "       'Age_bb', 'IBQ_R_VSF_3_bb1', 'IBQ_R_VSF_4_bb1', 'IBQ_R_VSF_9_bb1',\n",
       "       'IBQ_R_VSF_10_bb1', 'IBQ_R_VSF_16_bb1', 'IBQ_R_VSF_17_bb1',\n",
       "       'IBQ_R_VSF_28_bb1', 'IBQ_R_VSF_29_bb1', 'IBQ_R_VSF_32_bb1',\n",
       "       'IBQ_R_VSF_33_bb1', 'Sleep_night_duration_bb1',\n",
       "       'night_awakening_number_bb1', 'how_falling_asleep_bb1'],\n",
       "      dtype='object')"
      ]
     },
     "execution_count": 365,
     "metadata": {},
     "output_type": "execute_result"
    }
   ],
   "source": [
    "df.columns"
   ]
  },
  {
   "cell_type": "code",
   "execution_count": 4,
   "id": "d4698af0-f526-4245-9df4-39448a257513",
   "metadata": {},
   "outputs": [
    {
     "name": "stdout",
     "output_type": "stream",
     "text": [
      "<class 'pandas.core.frame.DataFrame'>\n",
      "Int64Index: 410 entries, 0 to 409\n",
      "Data columns (total 64 columns):\n",
      " #   Column                      Non-Null Count  Dtype  \n",
      "---  ------                      --------------  -----  \n",
      " 0   Participant_number          410 non-null    float64\n",
      " 1   Type_parents                410 non-null    float64\n",
      " 2   Birth_1mth_M_inclusion      410 non-null    float64\n",
      " 3   Birth_12mth_M_inclusion     410 non-null    float64\n",
      " 4   Age                         410 non-null    float64\n",
      " 5   Marital_status              410 non-null    float64\n",
      " 6   Marital_status_Autre        2 non-null      object \n",
      " 7   Marital_status_edit         410 non-null    float64\n",
      " 8   Education                   410 non-null    float64\n",
      " 9   Gestationnal_age            410 non-null    float64\n",
      " 10  Type_pregnancy              410 non-null    float64\n",
      " 11  sex_baby1                   410 non-null    float64\n",
      " 12  CBTS_M_3                    410 non-null    float64\n",
      " 13  CBTS_M_4                    410 non-null    float64\n",
      " 14  CBTS_M_5                    410 non-null    float64\n",
      " 15  CBTS_M_6                    410 non-null    float64\n",
      " 16  CBTS_M_7                    410 non-null    float64\n",
      " 17  CBTS_M_8                    410 non-null    float64\n",
      " 18  CBTS_M_9                    410 non-null    float64\n",
      " 19  CBTS_M_10                   410 non-null    float64\n",
      " 20  CBTS_M_11                   410 non-null    float64\n",
      " 21  CBTS_M_12                   410 non-null    float64\n",
      " 22  CBTS_13                     410 non-null    float64\n",
      " 23  CBTS_14                     410 non-null    float64\n",
      " 24  CBTS_15                     410 non-null    float64\n",
      " 25  CBTS_16                     410 non-null    float64\n",
      " 26  CBTS_17                     410 non-null    float64\n",
      " 27  CBTS_18                     410 non-null    float64\n",
      " 28  CBTS_19                     410 non-null    float64\n",
      " 29  CBTS_20                     410 non-null    float64\n",
      " 30  CBTS_21                     410 non-null    float64\n",
      " 31  CBTS_22                     410 non-null    float64\n",
      " 32  EPDS_1                      410 non-null    float64\n",
      " 33  EPDS_2                      410 non-null    float64\n",
      " 34  EPDS_3                      410 non-null    float64\n",
      " 35  EPDS_4                      410 non-null    float64\n",
      " 36  EPDS_5                      410 non-null    float64\n",
      " 37  EPDS_6                      410 non-null    float64\n",
      " 38  EPDS_7                      410 non-null    float64\n",
      " 39  EPDS_8                      410 non-null    float64\n",
      " 40  EPDS_9                      410 non-null    float64\n",
      " 41  EPDS_10                     410 non-null    float64\n",
      " 42  HADS_1                      410 non-null    float64\n",
      " 43  HADS_3                      410 non-null    float64\n",
      " 44  HADS_5                      410 non-null    float64\n",
      " 45  HADS_7                      410 non-null    float64\n",
      " 46  HADS_9                      410 non-null    float64\n",
      " 47  HADS_11                     410 non-null    float64\n",
      " 48  HADS_13                     410 non-null    float64\n",
      " 49  Child_survey_participation  410 non-null    float64\n",
      " 50  Age_bb                      410 non-null    float64\n",
      " 51  IBQ_R_VSF_3_bb1             405 non-null    float64\n",
      " 52  IBQ_R_VSF_4_bb1             377 non-null    float64\n",
      " 53  IBQ_R_VSF_9_bb1             376 non-null    float64\n",
      " 54  IBQ_R_VSF_10_bb1            375 non-null    float64\n",
      " 55  IBQ_R_VSF_16_bb1            394 non-null    float64\n",
      " 56  IBQ_R_VSF_17_bb1            329 non-null    float64\n",
      " 57  IBQ_R_VSF_28_bb1            347 non-null    float64\n",
      " 58  IBQ_R_VSF_29_bb1            395 non-null    float64\n",
      " 59  IBQ_R_VSF_32_bb1            378 non-null    float64\n",
      " 60  IBQ_R_VSF_33_bb1            326 non-null    float64\n",
      " 61  Sleep_night_duration_bb1    410 non-null    object \n",
      " 62  night_awakening_number_bb1  410 non-null    float64\n",
      " 63  how_falling_asleep_bb1      410 non-null    float64\n",
      "dtypes: float64(62), object(2)\n",
      "memory usage: 208.2+ KB\n"
     ]
    }
   ],
   "source": [
    "df.info()"
   ]
  },
  {
   "cell_type": "code",
   "execution_count": 5,
   "id": "9cf4723b-9b87-4ab7-a359-76b040d1ae36",
   "metadata": {},
   "outputs": [
    {
     "data": {
      "text/plain": [
       "(410, 64)"
      ]
     },
     "execution_count": 5,
     "metadata": {},
     "output_type": "execute_result"
    }
   ],
   "source": [
    "df.shape"
   ]
  },
  {
   "cell_type": "markdown",
   "id": "67588db1-0d83-4f3b-8ae6-289eebaea572",
   "metadata": {},
   "source": [
    "### Demographic"
   ]
  },
  {
   "cell_type": "code",
   "execution_count": 6,
   "id": "18fc0c1c-5396-497e-a0ea-e997bd5f7044",
   "metadata": {},
   "outputs": [],
   "source": [
    "import numpy as np"
   ]
  },
  {
   "cell_type": "code",
   "execution_count": 366,
   "id": "d83056fb-48da-48f5-b703-24f2d29e021d",
   "metadata": {},
   "outputs": [
    {
     "data": {
      "image/png": "[encoded data removed]",
      "text/plain": [
       "<Figure size 640x480 with 1 Axes>"
      ]
     },
     "metadata": {},
     "output_type": "display_data"
    }
   ],
   "source": [
    "#Age\n",
    "bins = np.arange(df['Age'].min(), df['Age'].max()+1, 1)\n",
    "plt.hist(df['Age'], color = \"lightblue\", bins=bins)\n",
    "plt.xlabel(\"Age\")\n",
    "plt.ylabel(\"Frequency\")\n",
    "plt.title('Age Distribution')\n",
    "plt.tight_layout()\n",
    "plt.show()"
   ]
  },
  {
   "cell_type": "code",
   "execution_count": 8,
   "id": "54cc8326-9bb7-423e-bfa6-0c7b059c505b",
   "metadata": {},
   "outputs": [
    {
     "data": {
      "text/plain": [
       "2.0    389\n",
       "1.0     14\n",
       "3.0      7\n",
       "Name: Marital_status_edit, dtype: int64"
      ]
     },
     "execution_count": 8,
     "metadata": {},
     "output_type": "execute_result"
    }
   ],
   "source": [
    "#marital status\n",
    "df['Marital_status_edit'].value_counts()"
   ]
  },
  {
   "cell_type": "code",
   "execution_count": 9,
   "id": "34fafe3f-c38c-4cd1-b56b-82c28e7a023d",
   "metadata": {},
   "outputs": [],
   "source": [
    "conditions = [\n",
    "    (df['Marital_status_edit'] == 1),\n",
    "    (df['Marital_status_edit'] == 2),\n",
    "    (df['Marital_status_edit'] == 3)\n",
    "    ]\n",
    "values = ['single', 'in a relationship', 'separated/divorced/widow']\n",
    "Marital_status = np.select(conditions, values)"
   ]
  },
  {
   "cell_type": "code",
   "execution_count": 10,
   "id": "9a1e4766-9dfb-4d33-9991-fed824cb83fb",
   "metadata": {},
   "outputs": [
    {
     "data": {
      "image/png": "[encoded data removed]",
      "text/plain": [
       "<Figure size 640x480 with 1 Axes>"
      ]
     },
     "metadata": {},
     "output_type": "display_data"
    }
   ],
   "source": [
    "status = ['single', 'in a relationship', 'separated']\n",
    "plt.hist(Marital_status, color = \"lightblue\")\n",
    "plt.xlabel(\"marital status\")\n",
    "plt.ylabel(\"Frequency\")\n",
    "plt.tight_layout()\n",
    "plt.show()"
   ]
  },
  {
   "cell_type": "code",
   "execution_count": 11,
   "id": "5ee0a488-5605-409c-a34d-bcd9315c27ed",
   "metadata": {},
   "outputs": [
    {
     "data": {
      "text/plain": [
       "5.0    192\n",
       "3.0    103\n",
       "4.0     88\n",
       "2.0     25\n",
       "1.0      2\n",
       "Name: Education, dtype: int64"
      ]
     },
     "execution_count": 11,
     "metadata": {},
     "output_type": "execute_result"
    }
   ],
   "source": [
    "#education\n",
    "#1 = no education ; 2 = compulsory school ; 3 = post-compulsory education (e.g., apprenticeship) ; 4 = university of Applied Science or University Technology Degree ; 5 = university. \n",
    "#No education and compulsory school were merged into the category \"Compulsory education or lower school or less\".\n",
    "#Preschool (écoles maternelles) – ages three to six\n",
    "#Primary school (école élémentaire) – ages six to 11\n",
    "#Middle school (collège) – ages 11 to 15\n",
    "#High school (lycée) – ages 15 to 18\n",
    "df['Education'].value_counts()"
   ]
  },
  {
   "cell_type": "code",
   "execution_count": 370,
   "id": "2853a2b0-796a-4058-ad6c-868d558ba7e2",
   "metadata": {},
   "outputs": [],
   "source": [
    "conditions = [\n",
    "    (df['Education'] == 1),\n",
    "    (df['Education'] == 2),\n",
    "    (df['Education'] == 3),\n",
    "    (df['Education'] == 4),\n",
    "    (df['Education'] == 5)\n",
    "    ]\n",
    "values = ['no education', 'compulsory school', 'apprenticeship', 'University Technology Degree', 'university']\n",
    "education_level = np.select(conditions, values)"
   ]
  },
  {
   "cell_type": "code",
   "execution_count": 372,
   "id": "f55201b2-ad18-41df-bf2d-be695e5a6e94",
   "metadata": {},
   "outputs": [
    {
     "data": {
      "image/png": "[encoded data removed]",
      "text/plain": [
       "<Figure size 1000x600 with 1 Axes>"
      ]
     },
     "metadata": {},
     "output_type": "display_data"
    }
   ],
   "source": [
    "#status = ['single', 'in a relationship', 'separated']\n",
    "plt.figure(figsize=(10,6))\n",
    "plt.hist(education_level, color = \"lightblue\")\n",
    "plt.xlabel(\"education level\")\n",
    "plt.ylabel(\"Frequency\")\n",
    "plt.title('Education Level Distribution')\n",
    "plt.xticks(rotation = 90)\n",
    "plt.tight_layout()\n",
    "plt.show()"
   ]
  },
  {
   "cell_type": "code",
   "execution_count": 12,
   "id": "c92ad52d-d733-4356-aaac-a68878d16f70",
   "metadata": {},
   "outputs": [
    {
     "data": {
      "text/plain": [
       "1.0    410\n",
       "Name: Birth_1mth_M_inclusion, dtype: int64"
      ]
     },
     "execution_count": 12,
     "metadata": {},
     "output_type": "execute_result"
    }
   ],
   "source": [
    "df['Birth_1mth_M_inclusion'].value_counts()"
   ]
  },
  {
   "cell_type": "code",
   "execution_count": 13,
   "id": "67b1706e-e13e-4d05-be25-d6807d5e8c42",
   "metadata": {},
   "outputs": [
    {
     "data": {
      "text/plain": [
       "1.0    410\n",
       "Name: Birth_12mth_M_inclusion, dtype: int64"
      ]
     },
     "execution_count": 13,
     "metadata": {},
     "output_type": "execute_result"
    }
   ],
   "source": [
    "df['Birth_12mth_M_inclusion'].value_counts()"
   ]
  },
  {
   "cell_type": "markdown",
   "id": "e559e811-2315-4801-8fc9-cb91a888ab50",
   "metadata": {},
   "source": [
    "### Baby"
   ]
  },
  {
   "cell_type": "code",
   "execution_count": 14,
   "id": "c36bf4b8-dad7-4917-9935-ed4ecf33274e",
   "metadata": {},
   "outputs": [
    {
     "data": {
      "image/png": "[encoded data removed]",
      "text/plain": [
       "<Figure size 640x480 with 1 Axes>"
      ]
     },
     "metadata": {},
     "output_type": "display_data"
    }
   ],
   "source": [
    "#Gestationnal age\n",
    "bins_w = np.arange(df['Gestationnal_age'].min(), df['Gestationnal_age'].max()+1, 1)\n",
    "plt.hist(df['Gestationnal_age'], color = \"lightblue\", bins=bins_w)\n",
    "plt.xlabel(\"Gestationnal_age\")\n",
    "plt.ylabel(\"Frequency\")\n",
    "plt.axvline(x=38, color='b', label='axvline - full height')\n",
    "plt.axvline(x=42)\n",
    "plt.tight_layout()\n",
    "plt.show()"
   ]
  },
  {
   "cell_type": "code",
   "execution_count": 15,
   "id": "7b7c5077-b0b3-4999-91d2-7972d643ba4e",
   "metadata": {},
   "outputs": [
    {
     "data": {
      "text/plain": [
       "1.0    212\n",
       "2.0    198\n",
       "Name: sex_baby1, dtype: int64"
      ]
     },
     "execution_count": 15,
     "metadata": {},
     "output_type": "execute_result"
    }
   ],
   "source": [
    "#sex of baby\n",
    "#1 = girl; 2 = boy\n",
    "df['sex_baby1'].value_counts()"
   ]
  },
  {
   "cell_type": "code",
   "execution_count": 16,
   "id": "5c32e2bd-25f6-4a1a-8626-fc36dddbfe87",
   "metadata": {},
   "outputs": [
    {
     "data": {
      "text/plain": [
       "1.0    147\n",
       "2.0    133\n",
       "3.0    130\n",
       "Name: Age_bb, dtype: int64"
      ]
     },
     "execution_count": 16,
     "metadata": {},
     "output_type": "execute_result"
    }
   ],
   "source": [
    "#age of baby\n",
    "#1 = ≥3 months to <6 months; 2 = ≥6 months to <9 months; 3 = ≥9 months to <12 months\n",
    "df['Age_bb'].value_counts()"
   ]
  },
  {
   "cell_type": "code",
   "execution_count": 374,
   "id": "52876812-f0bb-4f90-a1ab-2d9a81278e5d",
   "metadata": {},
   "outputs": [
    {
     "name": "stdout",
     "output_type": "stream",
     "text": [
      "10\n"
     ]
    },
    {
     "data": {
      "text/plain": [
       "['IBQ_R_VSF_3_bb1',\n",
       " 'IBQ_R_VSF_4_bb1',\n",
       " 'IBQ_R_VSF_9_bb1',\n",
       " 'IBQ_R_VSF_10_bb1',\n",
       " 'IBQ_R_VSF_16_bb1',\n",
       " 'IBQ_R_VSF_17_bb1',\n",
       " 'IBQ_R_VSF_28_bb1',\n",
       " 'IBQ_R_VSF_29_bb1',\n",
       " 'IBQ_R_VSF_32_bb1',\n",
       " 'IBQ_R_VSF_33_bb1']"
      ]
     },
     "execution_count": 374,
     "metadata": {},
     "output_type": "execute_result"
    }
   ],
   "source": [
    "#the Very Short Form of the Infant Behavior Questionnaire-Revised (Negative Emotionality dimension)\n",
    "print(len([col for col in df if col.startswith('IBQ')]))\n",
    "[col for col in df if col.startswith('IBQ')]\n"
   ]
  },
  {
   "cell_type": "markdown",
   "id": "43bd1d80-24b0-4a01-bcf7-fa2a70e14b37",
   "metadata": {},
   "source": [
    "3. How often did your baby show distress when he/she was tired?\n",
    "4. How often did your baby cling to a parent when introduced to an unfamiliar adult?\n",
    "9. When it was time for bed or nap and your baby didn't want to go, how often did he/she whine or sob?\n",
    "10. After waking up, how often did your baby cry if no one came quickly?\n",
    "16. How often did your baby seem angry (crying and fussing) when you put him/her to bed?\n",
    "17. How often in the past week was your baby startled by a sudden change in body position (such as being suddenly moved)?\n",
    "28. When introduced to an unfamiliar adult, how often did your baby refuse to go to that person?\n",
    "29. When you were occupied with another activity and your baby couldn't get your attention, how often did he/she cry?\n",
    "32. When your baby wanted something, how often did he/she become upset when he/she couldn't get it?\n",
    "33. When in the presence of several unfamiliar adults, how often did your baby cling to a parent?"
   ]
  },
  {
   "cell_type": "code",
   "execution_count": 18,
   "id": "b9eae0fd-4542-45a9-b002-950e799105ab",
   "metadata": {},
   "outputs": [
    {
     "name": "stdout",
     "output_type": "stream",
     "text": [
      "IBQ_R_VSF_3_bb1\n",
      "2.0    0.256790\n",
      "3.0    0.170370\n",
      "6.0    0.153086\n",
      "1.0    0.118519\n",
      "4.0    0.113580\n",
      "5.0    0.108642\n",
      "7.0    0.079012\n",
      "Name: IBQ_R_VSF_3_bb1, dtype: float64\n",
      "IBQ_R_VSF_4_bb1\n",
      "1.0    0.265252\n",
      "2.0    0.225464\n",
      "6.0    0.151194\n",
      "3.0    0.106101\n",
      "7.0    0.103448\n",
      "4.0    0.079576\n",
      "5.0    0.068966\n",
      "Name: IBQ_R_VSF_4_bb1, dtype: float64\n",
      "IBQ_R_VSF_9_bb1\n",
      "2.0    0.255319\n",
      "6.0    0.194149\n",
      "3.0    0.132979\n",
      "7.0    0.119681\n",
      "5.0    0.111702\n",
      "4.0    0.101064\n",
      "1.0    0.085106\n",
      "Name: IBQ_R_VSF_9_bb1, dtype: float64\n",
      "IBQ_R_VSF_10_bb1\n",
      "2.0    0.330667\n",
      "1.0    0.154667\n",
      "3.0    0.125333\n",
      "6.0    0.109333\n",
      "7.0    0.101333\n",
      "4.0    0.090667\n",
      "5.0    0.088000\n",
      "Name: IBQ_R_VSF_10_bb1, dtype: float64\n",
      "IBQ_R_VSF_16_bb1\n",
      "2.0    0.329949\n",
      "3.0    0.187817\n",
      "1.0    0.142132\n",
      "6.0    0.134518\n",
      "4.0    0.091371\n",
      "5.0    0.071066\n",
      "7.0    0.043147\n",
      "Name: IBQ_R_VSF_16_bb1, dtype: float64\n",
      "IBQ_R_VSF_17_bb1\n",
      "2.0    0.370821\n",
      "1.0    0.276596\n",
      "3.0    0.151976\n",
      "4.0    0.079027\n",
      "5.0    0.054711\n",
      "6.0    0.054711\n",
      "7.0    0.012158\n",
      "Name: IBQ_R_VSF_17_bb1, dtype: float64\n",
      "IBQ_R_VSF_28_bb1\n",
      "1.0    0.365994\n",
      "2.0    0.230548\n",
      "7.0    0.097983\n",
      "6.0    0.097983\n",
      "3.0    0.074928\n",
      "5.0    0.072046\n",
      "4.0    0.060519\n",
      "Name: IBQ_R_VSF_28_bb1, dtype: float64\n",
      "IBQ_R_VSF_29_bb1\n",
      "6.0    0.220253\n",
      "2.0    0.177215\n",
      "3.0    0.172152\n",
      "5.0    0.146835\n",
      "7.0    0.131646\n",
      "4.0    0.108861\n",
      "1.0    0.043038\n",
      "Name: IBQ_R_VSF_29_bb1, dtype: float64\n",
      "IBQ_R_VSF_32_bb1\n",
      "6.0    0.240741\n",
      "2.0    0.190476\n",
      "3.0    0.158730\n",
      "4.0    0.153439\n",
      "5.0    0.145503\n",
      "7.0    0.082011\n",
      "1.0    0.029101\n",
      "Name: IBQ_R_VSF_32_bb1, dtype: float64\n",
      "IBQ_R_VSF_33_bb1\n",
      "1.0    0.226994\n",
      "2.0    0.184049\n",
      "6.0    0.147239\n",
      "7.0    0.141104\n",
      "3.0    0.125767\n",
      "5.0    0.092025\n",
      "4.0    0.082822\n",
      "Name: IBQ_R_VSF_33_bb1, dtype: float64\n"
     ]
    }
   ],
   "source": [
    "for col in [col for col in df if col.startswith('IBQ')]:\n",
    "    print(col)\n",
    "    print(df[col].value_counts(normalize=True))"
   ]
  },
  {
   "cell_type": "code",
   "execution_count": 19,
   "id": "71f2a3db-96cb-4b3d-8c5b-ea2332ea5071",
   "metadata": {},
   "outputs": [
    {
     "data": {
      "text/plain": [
       "10:00    116\n",
       "11:00     79\n",
       "12:00     72\n",
       "09:00     39\n",
       "10:30     32\n",
       "08:00     22\n",
       "07:00     15\n",
       "09:30     10\n",
       "11:30     10\n",
       "06:00      6\n",
       "05:00      3\n",
       "07:30      2\n",
       "08:30      2\n",
       "11:15      1\n",
       "99:99      1\n",
       "Name: Sleep_night_duration_bb1, dtype: int64"
      ]
     },
     "execution_count": 19,
     "metadata": {},
     "output_type": "execute_result"
    }
   ],
   "source": [
    "#infant sleep duration\n",
    "#Brief Infant Sleep Questionnaire assessing nocturnal sleep duration (between 7pm and 7 am)\n",
    "df['Sleep_night_duration_bb1'].value_counts()"
   ]
  },
  {
   "cell_type": "code",
   "execution_count": 20,
   "id": "b03c5dd2-67d9-433d-bb77-02bc1b527104",
   "metadata": {},
   "outputs": [],
   "source": [
    "df.drop(df[df['Sleep_night_duration_bb1']=='99:99'].index, inplace=True)\n"
   ]
  },
  {
   "cell_type": "code",
   "execution_count": 21,
   "id": "0ac02f00-ae89-4793-a7ef-ea16c6bd034d",
   "metadata": {},
   "outputs": [
    {
     "data": {
      "text/plain": [
       "0.0     134\n",
       "1.0     121\n",
       "2.0      77\n",
       "3.0      36\n",
       "4.0      17\n",
       "5.0      16\n",
       "6.0       4\n",
       "10.0      2\n",
       "8.0       1\n",
       "7.0       1\n",
       "Name: night_awakening_number_bb1, dtype: int64"
      ]
     },
     "execution_count": 21,
     "metadata": {},
     "output_type": "execute_result"
    }
   ],
   "source": [
    "#Brief Infant Sleep Questionnaire assessing the number of night waking \n",
    "#Average number of awakenings during the night?\n",
    "df['night_awakening_number_bb1'].value_counts()"
   ]
  },
  {
   "cell_type": "code",
   "execution_count": 22,
   "id": "feaaacca-049c-4faa-b429-f6b601e85227",
   "metadata": {},
   "outputs": [
    {
     "name": "stderr",
     "output_type": "stream",
     "text": [
      "/var/folders/50/cr_04dgs14bf0wgx8frly6s40000gn/T/ipykernel_98820/2666799892.py:2: FutureWarning: Not prepending group keys to the result index of transform-like apply. In the future, the group keys will be included in the index, regardless of whether the applied function returns a like-indexed object.\n",
      "To preserve the previous behavior, use\n",
      "\n",
      "\t>>> .groupby(..., group_keys=False)\n",
      "\n",
      "To adopt the future behavior and silence this warning, use \n",
      "\n",
      "\t>>> .groupby(..., group_keys=True)\n",
      "  age_awake.groupby(level=0).apply(lambda x:100 * x / float(x.sum()))\n"
     ]
    },
    {
     "data": {
      "text/html": [
       "<div>\n",
       "<style scoped>\n",
       "    .dataframe tbody tr th:only-of-type {\n",
       "        vertical-align: middle;\n",
       "    }\n",
       "\n",
       "    .dataframe tbody tr th {\n",
       "        vertical-align: top;\n",
       "    }\n",
       "\n",
       "    .dataframe thead th {\n",
       "        text-align: right;\n",
       "    }\n",
       "</style>\n",
       "<table border=\"1\" class=\"dataframe\">\n",
       "  <thead>\n",
       "    <tr style=\"text-align: right;\">\n",
       "      <th></th>\n",
       "      <th></th>\n",
       "      <th>night_awakening_number_bb1</th>\n",
       "    </tr>\n",
       "    <tr>\n",
       "      <th>Age_bb</th>\n",
       "      <th>night_awakening_number_bb1</th>\n",
       "      <th></th>\n",
       "    </tr>\n",
       "  </thead>\n",
       "  <tbody>\n",
       "    <tr>\n",
       "      <th rowspan=\"8\" valign=\"top\">1.0</th>\n",
       "      <th>0.0</th>\n",
       "      <td>0.000000</td>\n",
       "    </tr>\n",
       "    <tr>\n",
       "      <th>1.0</th>\n",
       "      <td>16.894977</td>\n",
       "    </tr>\n",
       "    <tr>\n",
       "      <th>2.0</th>\n",
       "      <td>30.136986</td>\n",
       "    </tr>\n",
       "    <tr>\n",
       "      <th>3.0</th>\n",
       "      <td>19.178082</td>\n",
       "    </tr>\n",
       "    <tr>\n",
       "      <th>4.0</th>\n",
       "      <td>9.132420</td>\n",
       "    </tr>\n",
       "    <tr>\n",
       "      <th>5.0</th>\n",
       "      <td>15.981735</td>\n",
       "    </tr>\n",
       "    <tr>\n",
       "      <th>6.0</th>\n",
       "      <td>5.479452</td>\n",
       "    </tr>\n",
       "    <tr>\n",
       "      <th>7.0</th>\n",
       "      <td>3.196347</td>\n",
       "    </tr>\n",
       "    <tr>\n",
       "      <th rowspan=\"7\" valign=\"top\">2.0</th>\n",
       "      <th>0.0</th>\n",
       "      <td>0.000000</td>\n",
       "    </tr>\n",
       "    <tr>\n",
       "      <th>1.0</th>\n",
       "      <td>30.952381</td>\n",
       "    </tr>\n",
       "    <tr>\n",
       "      <th>2.0</th>\n",
       "      <td>27.380952</td>\n",
       "    </tr>\n",
       "    <tr>\n",
       "      <th>3.0</th>\n",
       "      <td>17.857143</td>\n",
       "    </tr>\n",
       "    <tr>\n",
       "      <th>4.0</th>\n",
       "      <td>14.285714</td>\n",
       "    </tr>\n",
       "    <tr>\n",
       "      <th>5.0</th>\n",
       "      <td>5.952381</td>\n",
       "    </tr>\n",
       "    <tr>\n",
       "      <th>6.0</th>\n",
       "      <td>3.571429</td>\n",
       "    </tr>\n",
       "    <tr>\n",
       "      <th rowspan=\"9\" valign=\"top\">3.0</th>\n",
       "      <th>0.0</th>\n",
       "      <td>0.000000</td>\n",
       "    </tr>\n",
       "    <tr>\n",
       "      <th>1.0</th>\n",
       "      <td>15.763547</td>\n",
       "    </tr>\n",
       "    <tr>\n",
       "      <th>2.0</th>\n",
       "      <td>20.689655</td>\n",
       "    </tr>\n",
       "    <tr>\n",
       "      <th>3.0</th>\n",
       "      <td>17.733990</td>\n",
       "    </tr>\n",
       "    <tr>\n",
       "      <th>4.0</th>\n",
       "      <td>11.822660</td>\n",
       "    </tr>\n",
       "    <tr>\n",
       "      <th>5.0</th>\n",
       "      <td>17.241379</td>\n",
       "    </tr>\n",
       "    <tr>\n",
       "      <th>6.0</th>\n",
       "      <td>2.955665</td>\n",
       "    </tr>\n",
       "    <tr>\n",
       "      <th>8.0</th>\n",
       "      <td>3.940887</td>\n",
       "    </tr>\n",
       "    <tr>\n",
       "      <th>10.0</th>\n",
       "      <td>9.852217</td>\n",
       "    </tr>\n",
       "  </tbody>\n",
       "</table>\n",
       "</div>"
      ],
      "text/plain": [
       "                                   night_awakening_number_bb1\n",
       "Age_bb night_awakening_number_bb1                            \n",
       "1.0    0.0                                           0.000000\n",
       "       1.0                                          16.894977\n",
       "       2.0                                          30.136986\n",
       "       3.0                                          19.178082\n",
       "       4.0                                           9.132420\n",
       "       5.0                                          15.981735\n",
       "       6.0                                           5.479452\n",
       "       7.0                                           3.196347\n",
       "2.0    0.0                                           0.000000\n",
       "       1.0                                          30.952381\n",
       "       2.0                                          27.380952\n",
       "       3.0                                          17.857143\n",
       "       4.0                                          14.285714\n",
       "       5.0                                           5.952381\n",
       "       6.0                                           3.571429\n",
       "3.0    0.0                                           0.000000\n",
       "       1.0                                          15.763547\n",
       "       2.0                                          20.689655\n",
       "       3.0                                          17.733990\n",
       "       4.0                                          11.822660\n",
       "       5.0                                          17.241379\n",
       "       6.0                                           2.955665\n",
       "       8.0                                           3.940887\n",
       "       10.0                                          9.852217"
      ]
     },
     "execution_count": 22,
     "metadata": {},
     "output_type": "execute_result"
    }
   ],
   "source": [
    "age_awake = df.groupby([\"Age_bb\", \"night_awakening_number_bb1\"]).agg({'night_awakening_number_bb1': 'sum'})\n",
    "age_awake.groupby(level=0).apply(lambda x:100 * x / float(x.sum()))\n",
    "\n",
    "#df.groupby([\"Age_bb\", \"night_awakening_number_bb1\"]).size()"
   ]
  },
  {
   "cell_type": "code",
   "execution_count": 23,
   "id": "9669c408-fd69-4aaa-aefb-580c2ff9a099",
   "metadata": {},
   "outputs": [
    {
     "data": {
      "text/plain": [
       "4.0    176\n",
       "1.0     90\n",
       "2.0     74\n",
       "5.0     47\n",
       "3.0     22\n",
       "Name: how_falling_asleep_bb1, dtype: int64"
      ]
     },
     "execution_count": 23,
     "metadata": {},
     "output_type": "execute_result"
    }
   ],
   "source": [
    "#Brief Infant Sleep Questionnaire assessing how the infant fall asleep\n",
    "#1 = while being fed; 2 =while being rocked; 3 = while being held; 4 = alone in the crib; 5 =in the crib with parental presence\n",
    "df['how_falling_asleep_bb1'].value_counts()"
   ]
  },
  {
   "cell_type": "code",
   "execution_count": null,
   "id": "512f4424-adc1-4d0c-8a79-71c28e070e33",
   "metadata": {},
   "outputs": [],
   "source": []
  },
  {
   "cell_type": "markdown",
   "id": "4c84b14e-56a3-4e72-96dc-88f52bb555b4",
   "metadata": {},
   "source": [
    "## Mother"
   ]
  },
  {
   "cell_type": "code",
   "execution_count": 24,
   "id": "4f5cce14-c35a-461f-8818-20f049443cb1",
   "metadata": {},
   "outputs": [
    {
     "data": {
      "text/plain": [
       "1.0    404\n",
       "2.0      5\n",
       "Name: Type_pregnancy, dtype: int64"
      ]
     },
     "execution_count": 24,
     "metadata": {},
     "output_type": "execute_result"
    }
   ],
   "source": [
    "#Type of pregnancy (single or twin)\n",
    "df['Type_pregnancy'].value_counts()"
   ]
  },
  {
   "cell_type": "code",
   "execution_count": 375,
   "id": "b84c90a2-0e18-4c56-a2b0-30b2fe5b3673",
   "metadata": {},
   "outputs": [
    {
     "name": "stdout",
     "output_type": "stream",
     "text": [
      "20\n"
     ]
    },
    {
     "data": {
      "text/plain": [
       "['CBTS_M_3',\n",
       " 'CBTS_M_4',\n",
       " 'CBTS_M_5',\n",
       " 'CBTS_M_6',\n",
       " 'CBTS_M_7',\n",
       " 'CBTS_M_8',\n",
       " 'CBTS_M_9',\n",
       " 'CBTS_M_10',\n",
       " 'CBTS_M_11',\n",
       " 'CBTS_M_12',\n",
       " 'CBTS_13',\n",
       " 'CBTS_14',\n",
       " 'CBTS_15',\n",
       " 'CBTS_16',\n",
       " 'CBTS_17',\n",
       " 'CBTS_18',\n",
       " 'CBTS_19',\n",
       " 'CBTS_20',\n",
       " 'CBTS_21',\n",
       " 'CBTS_22']"
      ]
     },
     "execution_count": 375,
     "metadata": {},
     "output_type": "execute_result"
    }
   ],
   "source": [
    "#maternal City Birth Trauma Scale - French version \n",
    "print(len([col for col in df if col.startswith('CBTS')]))\n",
    "[col for col in df if col.startswith('CBTS')]"
   ]
  },
  {
   "cell_type": "markdown",
   "id": "3a0a059b-0dd2-489f-9043-f7c587cb38e4",
   "metadata": {},
   "source": [
    "3. Repeated and involuntary memories of the birth (or parts of the birth) that you cannot control\n",
    "4. Bad dreams or nightmares about the birth, or related to the birth\n",
    "5. Flashbacks of the birth and/or reliving the experience\n",
    "6. Being disturbed when something reminds you of the birth\n",
    "7. Being tense or anxious when something reminds you of the birth\n",
    "8. Trying to avoid thinking about the subject of the birth\n",
    "9. Trying to avoid things that remind you of the birth (e.g., people, places, TV programs, etc.)\n",
    "10. Unable to remember details of the birth\n",
    "11. Blaming yourself or others for what happened during the birth\n",
    "12. Experiencing intense negative emotions about the birth (e.g., fear, anger, shame)\n",
    "13. Having negative beliefs about yourself, or fearing that something terrible will happen\n",
    "14. Losing interest in activities that were important to you before\n",
    "15. Feeling detached from others\n",
    "16. Unable to feel positive emotions (e.g., joy, excitement)\n",
    "17. Feeling irritable or aggressive\n",
    "18. Feeling self-destructive, or acting recklessly\n",
    "19. Feeling tense and on edge\n",
    "20. Feeling restless or easily startled\n",
    "21. Having difficulty concentrating\n",
    "22. Sleeping poorly due to things unrelated to the baby's sleep schedule."
   ]
  },
  {
   "cell_type": "code",
   "execution_count": 26,
   "id": "0c5e4460-df6d-4795-acbe-58553374e881",
   "metadata": {},
   "outputs": [
    {
     "name": "stdout",
     "output_type": "stream",
     "text": [
      "CBTS_M_3\n",
      "0.0    0.684597\n",
      "1.0    0.141809\n",
      "2.0    0.134474\n",
      "3.0    0.039120\n",
      "Name: CBTS_M_3, dtype: float64\n",
      "CBTS_M_4\n",
      "0.0    0.867971\n",
      "1.0    0.070905\n",
      "2.0    0.046455\n",
      "3.0    0.014670\n",
      "Name: CBTS_M_4, dtype: float64\n",
      "CBTS_M_5\n",
      "0.0    0.559902\n",
      "1.0    0.217604\n",
      "2.0    0.156479\n",
      "3.0    0.066015\n",
      "Name: CBTS_M_5, dtype: float64\n",
      "CBTS_M_6\n",
      "0.0    0.679707\n",
      "1.0    0.176039\n",
      "2.0    0.110024\n",
      "3.0    0.034230\n",
      "Name: CBTS_M_6, dtype: float64\n",
      "CBTS_M_7\n",
      "0.0    0.765281\n",
      "1.0    0.132029\n",
      "2.0    0.073350\n",
      "3.0    0.029340\n",
      "Name: CBTS_M_7, dtype: float64\n",
      "CBTS_M_8\n",
      "0.0    0.811736\n",
      "1.0    0.078240\n",
      "2.0    0.061125\n",
      "3.0    0.048900\n",
      "Name: CBTS_M_8, dtype: float64\n",
      "CBTS_M_9\n",
      "0.0    0.867971\n",
      "1.0    0.061125\n",
      "2.0    0.048900\n",
      "3.0    0.022005\n",
      "Name: CBTS_M_9, dtype: float64\n",
      "CBTS_M_10\n",
      "0.0    0.699267\n",
      "1.0    0.195599\n",
      "2.0    0.080685\n",
      "3.0    0.024450\n",
      "Name: CBTS_M_10, dtype: float64\n",
      "CBTS_M_11\n",
      "0.0    0.748166\n",
      "1.0    0.102689\n",
      "2.0    0.100244\n",
      "3.0    0.048900\n",
      "Name: CBTS_M_11, dtype: float64\n",
      "CBTS_M_12\n",
      "0.0    0.691932\n",
      "1.0    0.144254\n",
      "2.0    0.090465\n",
      "3.0    0.073350\n",
      "Name: CBTS_M_12, dtype: float64\n",
      "CBTS_13\n",
      "0.0    0.508557\n",
      "1.0    0.202934\n",
      "2.0    0.166259\n",
      "3.0    0.122249\n",
      "Name: CBTS_13, dtype: float64\n",
      "CBTS_14\n",
      "0.0    0.547677\n",
      "2.0    0.198044\n",
      "1.0    0.173594\n",
      "3.0    0.080685\n",
      "Name: CBTS_14, dtype: float64\n",
      "CBTS_15\n",
      "0.0    0.447433\n",
      "1.0    0.215159\n",
      "2.0    0.212714\n",
      "3.0    0.124694\n",
      "Name: CBTS_15, dtype: float64\n",
      "CBTS_16\n",
      "0.0    0.726161\n",
      "1.0    0.117359\n",
      "2.0    0.107579\n",
      "3.0    0.048900\n",
      "Name: CBTS_16, dtype: float64\n",
      "CBTS_17\n",
      "0.0    0.320293\n",
      "2.0    0.266504\n",
      "1.0    0.246944\n",
      "3.0    0.166259\n",
      "Name: CBTS_17, dtype: float64\n",
      "CBTS_18\n",
      "0.0    0.880196\n",
      "1.0    0.058680\n",
      "2.0    0.031785\n",
      "3.0    0.029340\n",
      "Name: CBTS_18, dtype: float64\n",
      "CBTS_19\n",
      "0.0    0.281174\n",
      "2.0    0.276284\n",
      "1.0    0.232274\n",
      "3.0    0.210269\n",
      "Name: CBTS_19, dtype: float64\n",
      "CBTS_20\n",
      "0.0    0.677262\n",
      "1.0    0.158924\n",
      "2.0    0.119804\n",
      "3.0    0.044010\n",
      "Name: CBTS_20, dtype: float64\n",
      "CBTS_21\n",
      "0.0    0.376528\n",
      "2.0    0.266504\n",
      "1.0    0.220049\n",
      "3.0    0.136919\n",
      "Name: CBTS_21, dtype: float64\n",
      "CBTS_22\n",
      "0.0    0.464548\n",
      "1.0    0.198044\n",
      "2.0    0.195599\n",
      "3.0    0.141809\n",
      "Name: CBTS_22, dtype: float64\n"
     ]
    }
   ],
   "source": [
    "for col in [col for col in df if col.startswith('CBTS')]:\n",
    "    print(col)\n",
    "    print(df[col].value_counts(normalize=True))"
   ]
  },
  {
   "cell_type": "code",
   "execution_count": 376,
   "id": "bdb071ec-2e6f-47aa-89f4-a70dec8574c4",
   "metadata": {},
   "outputs": [
    {
     "name": "stdout",
     "output_type": "stream",
     "text": [
      "10\n"
     ]
    },
    {
     "data": {
      "text/plain": [
       "['EPDS_1',\n",
       " 'EPDS_2',\n",
       " 'EPDS_3',\n",
       " 'EPDS_4',\n",
       " 'EPDS_5',\n",
       " 'EPDS_6',\n",
       " 'EPDS_7',\n",
       " 'EPDS_8',\n",
       " 'EPDS_9',\n",
       " 'EPDS_10']"
      ]
     },
     "execution_count": 376,
     "metadata": {},
     "output_type": "execute_result"
    }
   ],
   "source": [
    "#Edinburgh Postnatal Depression Scale\n",
    "print(len([col for col in df if col.startswith('EPDS')]))\n",
    "[col for col in df if col.startswith('EPDS')]"
   ]
  },
  {
   "cell_type": "markdown",
   "id": "4116b3f0-83ef-4a1d-b489-e5d75ced3211",
   "metadata": {},
   "source": [
    "1. I was able to laugh and take things in stride:\n",
    "2. I felt confident and joyful when thinking about the future:\n",
    "3. I blamed myself, without reason, for things going wrong:\n",
    "4. I felt worried or anxious without reason:\n",
    "5. I felt scared or panicked without really knowing why:\n",
    "6. I tended to feel overwhelmed by events:\n",
    "7. I felt so unhappy that I had trouble sleeping:\n",
    "8. I felt sad or not very happy:\n",
    "9. I felt so unhappy that I cried:\n",
    "10. I have thought about hurting myself:"
   ]
  },
  {
   "cell_type": "code",
   "execution_count": 28,
   "id": "d82e5c8f-3eba-4870-b1ee-e7dfff858865",
   "metadata": {},
   "outputs": [
    {
     "name": "stdout",
     "output_type": "stream",
     "text": [
      "EPDS_1\n",
      "0.0    0.633252\n",
      "1.0    0.237164\n",
      "2.0    0.124694\n",
      "3.0    0.004890\n",
      "Name: EPDS_1, dtype: float64\n",
      "EPDS_2\n",
      "0.0    0.618582\n",
      "1.0    0.249389\n",
      "2.0    0.088020\n",
      "3.0    0.044010\n",
      "Name: EPDS_2, dtype: float64\n",
      "EPDS_3\n",
      "2.0    0.337408\n",
      "0.0    0.264059\n",
      "1.0    0.212714\n",
      "3.0    0.185819\n",
      "Name: EPDS_3, dtype: float64\n",
      "EPDS_4\n",
      "2.0    0.378973\n",
      "0.0    0.246944\n",
      "1.0    0.210269\n",
      "3.0    0.163814\n",
      "Name: EPDS_4, dtype: float64\n",
      "EPDS_5\n",
      "0.0    0.486553\n",
      "2.0    0.264059\n",
      "1.0    0.185819\n",
      "3.0    0.063570\n",
      "Name: EPDS_5, dtype: float64\n",
      "EPDS_6\n",
      "2.0    0.408313\n",
      "1.0    0.278729\n",
      "0.0    0.183374\n",
      "3.0    0.129584\n",
      "Name: EPDS_6, dtype: float64\n",
      "EPDS_7\n",
      "0.0    0.574572\n",
      "1.0    0.176039\n",
      "2.0    0.171149\n",
      "3.0    0.078240\n",
      "Name: EPDS_7, dtype: float64\n",
      "EPDS_8\n",
      "0.0    0.403423\n",
      "1.0    0.383863\n",
      "2.0    0.139364\n",
      "3.0    0.073350\n",
      "Name: EPDS_8, dtype: float64\n",
      "EPDS_9\n",
      "0.0    0.452323\n",
      "1.0    0.366748\n",
      "2.0    0.117359\n",
      "3.0    0.063570\n",
      "Name: EPDS_9, dtype: float64\n",
      "EPDS_10\n",
      "0.0    0.848411\n",
      "2.0    0.058680\n",
      "1.0    0.056235\n",
      "3.0    0.036675\n",
      "Name: EPDS_10, dtype: float64\n"
     ]
    }
   ],
   "source": [
    "for col in [col for col in df if col.startswith('EPDS')]:\n",
    "    print(col)\n",
    "    print(df[col].value_counts(normalize=True))"
   ]
  },
  {
   "cell_type": "code",
   "execution_count": 377,
   "id": "376a5d2a-9d9e-4487-a601-268edac0683b",
   "metadata": {},
   "outputs": [
    {
     "name": "stdout",
     "output_type": "stream",
     "text": [
      "7\n"
     ]
    },
    {
     "data": {
      "text/plain": [
       "['HADS_1', 'HADS_3', 'HADS_5', 'HADS_7', 'HADS_9', 'HADS_11', 'HADS_13']"
      ]
     },
     "execution_count": 377,
     "metadata": {},
     "output_type": "execute_result"
    }
   ],
   "source": [
    "#Hospital Anxiety and Depression Scale (anxiety subscale)\n",
    "print(len([col for col in df if col.startswith('HADS')]))\n",
    "[col for col in df if col.startswith('HADS')]"
   ]
  },
  {
   "cell_type": "markdown",
   "id": "eddf58bf-0c37-40ef-ab87-282734606be6",
   "metadata": {},
   "source": [
    "1. I feel tense or agitated:\n",
    "3. I have a feeling of fear as if something horrible is going to happen to me:\n",
    "5. I worry:\n",
    "7. I can sit quietly and feel relaxed:\n",
    "9. I feel scared and have a knot in my stomach:\n",
    "11. I am restless and can't sit still:\n",
    "13. I have sudden sensations of panic:"
   ]
  },
  {
   "cell_type": "code",
   "execution_count": 30,
   "id": "4ec6c6eb-4aca-4231-81e1-39a0b48fa2df",
   "metadata": {},
   "outputs": [
    {
     "name": "stdout",
     "output_type": "stream",
     "text": [
      "HADS_1\n",
      "1.0    0.488998\n",
      "2.0    0.242054\n",
      "0.0    0.156479\n",
      "3.0    0.112469\n",
      "Name: HADS_1, dtype: float64\n",
      "HADS_3\n",
      "0.0    0.572127\n",
      "1.0    0.215159\n",
      "2.0    0.136919\n",
      "3.0    0.075795\n",
      "Name: HADS_3, dtype: float64\n",
      "HADS_5\n",
      "1.0    0.349633\n",
      "2.0    0.303178\n",
      "3.0    0.237164\n",
      "0.0    0.110024\n",
      "Name: HADS_5, dtype: float64\n",
      "HADS_7\n",
      "1.0    0.432763\n",
      "2.0    0.349633\n",
      "3.0    0.127139\n",
      "0.0    0.090465\n",
      "Name: HADS_7, dtype: float64\n",
      "HADS_9\n",
      "0.0    0.493888\n",
      "1.0    0.354523\n",
      "2.0    0.107579\n",
      "3.0    0.044010\n",
      "Name: HADS_9, dtype: float64\n",
      "HADS_11\n",
      "1.0    0.310513\n",
      "0.0    0.278729\n",
      "2.0    0.249389\n",
      "3.0    0.161369\n",
      "Name: HADS_11, dtype: float64\n",
      "HADS_13\n",
      "0.0    0.552567\n",
      "1.0    0.288509\n",
      "2.0    0.114914\n",
      "3.0    0.044010\n",
      "Name: HADS_13, dtype: float64\n"
     ]
    }
   ],
   "source": [
    "for col in [col for col in df if col.startswith('HADS')]:\n",
    "    print(col)\n",
    "    print(df[col].value_counts(normalize=True))"
   ]
  },
  {
   "cell_type": "markdown",
   "id": "39746f6f-f2f3-4dd9-9a3a-37a61f4db1b1",
   "metadata": {},
   "source": [
    "## Feature engineering"
   ]
  },
  {
   "cell_type": "code",
   "execution_count": 379,
   "id": "10b387a0-13a5-4634-b3f6-cb23b9e7121e",
   "metadata": {},
   "outputs": [
    {
     "data": {
      "text/plain": [
       "1    335\n",
       "0     75\n",
       "Name: Gestational_age_cat, dtype: int64"
      ]
     },
     "execution_count": 379,
     "metadata": {},
     "output_type": "execute_result"
    }
   ],
   "source": [
    "#create gestational age categorcal column \n",
    "#<38 weeks OR >42 weeks = 0, 38-42 weeks = 1\n",
    "conditions = [\n",
    "    (df['Gestationnal_age'] < 38),\n",
    "    (df['Gestationnal_age'] >= 38)&(df['Gestationnal_age'] <= 42),\n",
    "    (df['Gestationnal_age'] >42)]\n",
    "\n",
    "values = ['0', '1', '0']\n",
    "df['Gestational_age_cat'] = np.select(conditions, values)\n",
    "df['Gestational_age_cat'].value_counts()"
   ]
  },
  {
   "cell_type": "code",
   "execution_count": 380,
   "id": "1c01b3de-a9ec-452e-a359-ee455a337040",
   "metadata": {},
   "outputs": [],
   "source": [
    "mother_cols = [col for col in df if col.startswith('CBTS')] + [col for col in df if col.startswith('EPDS')] + [col for col in df if col.startswith('HADS')]"
   ]
  },
  {
   "cell_type": "code",
   "execution_count": 381,
   "id": "ea8a5300-d33c-42ec-a549-8baf3bf45cd6",
   "metadata": {},
   "outputs": [
    {
     "data": {
      "text/plain": [
       "0       6.0\n",
       "1       0.0\n",
       "2       9.0\n",
       "3      14.0\n",
       "4       3.0\n",
       "       ... \n",
       "405     3.0\n",
       "406     8.0\n",
       "407     0.0\n",
       "408     0.0\n",
       "409     6.0\n",
       "Name: CBTS, Length: 410, dtype: float64"
      ]
     },
     "execution_count": 381,
     "metadata": {},
     "output_type": "execute_result"
    }
   ],
   "source": [
    "#create new column CBTS overall to summarize all CBTS item score\n",
    "df['CBTS'] = df[[col for col in df if col.startswith('CBTS')]].sum(axis=1)\n",
    "df['CBTS']"
   ]
  },
  {
   "cell_type": "code",
   "execution_count": 382,
   "id": "cab67f9e-712c-4c38-9919-c8057c60461a",
   "metadata": {},
   "outputs": [
    {
     "data": {
      "text/plain": [
       "0       7.0\n",
       "1       0.0\n",
       "2       6.0\n",
       "3      12.0\n",
       "4       3.0\n",
       "       ... \n",
       "405     4.0\n",
       "406     9.0\n",
       "407     3.0\n",
       "408     0.0\n",
       "409     7.0\n",
       "Name: EPDS, Length: 410, dtype: float64"
      ]
     },
     "execution_count": 382,
     "metadata": {},
     "output_type": "execute_result"
    }
   ],
   "source": [
    "#create new column EPDS overall to summarize all EPDS item score\n",
    "#some are negative statements, some are positive statements\n",
    "df['EPDS'] = -df['EPDS_1'] - df['EPDS_2'] + df['EPDS_3'] + df['EPDS_4'] +df['EPDS_5'] + df['EPDS_6'] + df['EPDS_7'] + df['EPDS_8'] + df['EPDS_9'] + df['EPDS_10']\n",
    "df['EPDS']"
   ]
  },
  {
   "cell_type": "code",
   "execution_count": 383,
   "id": "79b75dfa-c2d7-4e83-8a42-19a48cb2f114",
   "metadata": {},
   "outputs": [
    {
     "data": {
      "text/plain": [
       "0       9.0\n",
       "1       3.0\n",
       "2       9.0\n",
       "3      13.0\n",
       "4       3.0\n",
       "       ... \n",
       "405     4.0\n",
       "406    14.0\n",
       "407     3.0\n",
       "408     4.0\n",
       "409     7.0\n",
       "Name: HADS, Length: 410, dtype: float64"
      ]
     },
     "execution_count": 383,
     "metadata": {},
     "output_type": "execute_result"
    }
   ],
   "source": [
    "#create new column HADS overall to summarize all HADS item score\n",
    "df['HADS'] = df[[col for col in df if col.startswith('HADS')]].sum(axis=1)\n",
    "df['HADS']"
   ]
  },
  {
   "cell_type": "code",
   "execution_count": 384,
   "id": "8236f645-3d85-413e-b362-aca5d9b8d9bf",
   "metadata": {},
   "outputs": [
    {
     "data": {
      "text/plain": [
       "0      33.0\n",
       "1      25.0\n",
       "2      17.0\n",
       "3      18.0\n",
       "4      39.0\n",
       "       ... \n",
       "405    28.0\n",
       "406    24.0\n",
       "407    19.0\n",
       "408    14.0\n",
       "409    24.0\n",
       "Name: IBQ, Length: 410, dtype: float64"
      ]
     },
     "execution_count": 384,
     "metadata": {},
     "output_type": "execute_result"
    }
   ],
   "source": [
    "#create new column IBQ overall to summarize all IBQ item score (negative emotionality dimension)\n",
    "df['IBQ'] = df[[col for col in df if col.startswith('IBQ')]].sum(axis=1)\n",
    "df['IBQ']"
   ]
  },
  {
   "cell_type": "code",
   "execution_count": 385,
   "id": "23172046-e0f0-4235-94e0-55f196eab8c0",
   "metadata": {},
   "outputs": [
    {
     "data": {
      "text/plain": [
       "0      10.0\n",
       "1      11.0\n",
       "2      12.0\n",
       "3      11.0\n",
       "4      10.5\n",
       "       ... \n",
       "405     9.0\n",
       "406    12.0\n",
       "407    10.0\n",
       "408    11.5\n",
       "409    12.0\n",
       "Name: sleep_duration_hr, Length: 410, dtype: float64"
      ]
     },
     "execution_count": 385,
     "metadata": {},
     "output_type": "execute_result"
    }
   ],
   "source": [
    "#convert Sleep_night_duration_bb1 column to float column in hours\n",
    "df['sleep_duration_hr'] = df['Sleep_night_duration_bb1'].str[0:2].astype(float) + df['Sleep_night_duration_bb1'].str[3:5].astype(float) / 60\n",
    "df['sleep_duration_hr']"
   ]
  },
  {
   "cell_type": "code",
   "execution_count": 386,
   "id": "aa5a1662-2af6-4f6c-8890-28158e3de0cb",
   "metadata": {},
   "outputs": [
    {
     "data": {
      "text/plain": [
       "1.0    410\n",
       "Name: sleep_duration, dtype: int64"
      ]
     },
     "execution_count": 386,
     "metadata": {},
     "output_type": "execute_result"
    }
   ],
   "source": [
    "df['sleep_duration'] = pd.cut(df['sleep_duration_hr'], bins=3, labels=['-1', '0', '1'])\n",
    "df['sleep_duration'] = df['sleep_duration'].astype(float)\n",
    "df.loc[df['sleep_duration'] == -1, 'sleep_duration'] = 1\n",
    "df['sleep_duration'].value_counts()\n"
   ]
  },
  {
   "cell_type": "code",
   "execution_count": 387,
   "id": "ce33c3f5-7230-4d78-a379-b71589a64dac",
   "metadata": {},
   "outputs": [
    {
     "data": {
      "text/plain": [
       "0      1\n",
       "1      0\n",
       "2      0\n",
       "3      0\n",
       "4      0\n",
       "      ..\n",
       "405    0\n",
       "406    0\n",
       "407    0\n",
       "408    0\n",
       "409    0\n",
       "Name: night_awakening, Length: 410, dtype: int64"
      ]
     },
     "execution_count": 387,
     "metadata": {},
     "output_type": "execute_result"
    }
   ],
   "source": [
    "#convert night_awakening_number_bb1 column to cateogircal column where <=3 is 0 (normal), >2 is 1 (too many)\n",
    "\n",
    "df['night_awakening'] = np.where(df['night_awakening_number_bb1']>2, 1, 0)\n",
    "df['night_awakening']"
   ]
  },
  {
   "cell_type": "code",
   "execution_count": 388,
   "id": "b8ce5e56-7fdf-4ea8-9583-84ef88a5c355",
   "metadata": {},
   "outputs": [
    {
     "data": {
      "text/plain": [
       "0      1\n",
       "1      0\n",
       "2      0\n",
       "3      0\n",
       "4      1\n",
       "      ..\n",
       "405    0\n",
       "406    0\n",
       "407    0\n",
       "408    0\n",
       "409    0\n",
       "Name: IBQ_cat, Length: 410, dtype: int64"
      ]
     },
     "execution_count": 388,
     "metadata": {},
     "output_type": "execute_result"
    }
   ],
   "source": [
    "df['IBQ_cat'] = np.where(df['IBQ']<df['IBQ'].median(), 0, 1)\n",
    "df['IBQ_cat']"
   ]
  },
  {
   "cell_type": "code",
   "execution_count": 390,
   "id": "35efa155-cb0e-4815-a303-b1409e31d5f6",
   "metadata": {},
   "outputs": [
    {
     "data": {
      "text/plain": [
       "1    233\n",
       "0    177\n",
       "Name: how_asleep, dtype: int64"
      ]
     },
     "execution_count": 390,
     "metadata": {},
     "output_type": "execute_result"
    }
   ],
   "source": [
    "#responses 1, 2, 3, and 5 were grouped as interactive method of falling asleep, while the non-interactive method of falling asleep only included response 4\n",
    "#0 is good, 1 is \"bad\" sleep habit\n",
    "conditions = [\n",
    "    (df['how_falling_asleep_bb1'] == 4),\n",
    "    (df['how_falling_asleep_bb1'] != 4)]\n",
    "\n",
    "values = ['0', '1']\n",
    "df['how_asleep'] = np.select(conditions, values)\n",
    "df['how_asleep'].value_counts()"
   ]
  },
  {
   "cell_type": "markdown",
   "id": "2d614af3-ae8d-499c-8b1c-4c7e59f28c23",
   "metadata": {},
   "source": [
    "Final features:\n",
    "\n",
    "df[['Age', 'Marital_status_edit', 'Gestational_age_cat', 'Education', 'CBTS', 'EPDS', 'HADS']]\n"
   ]
  },
  {
   "cell_type": "markdown",
   "id": "69ce921a-c38e-44e2-a3ab-bafafe4a7e6b",
   "metadata": {
    "tags": []
   },
   "source": [
    "## Model"
   ]
  },
  {
   "cell_type": "code",
   "execution_count": 393,
   "id": "c6c1ccbf-bff8-4d61-af68-6fe00c3992df",
   "metadata": {},
   "outputs": [
    {
     "data": {
      "text/html": [
       "<div>\n",
       "<style scoped>\n",
       "    .dataframe tbody tr th:only-of-type {\n",
       "        vertical-align: middle;\n",
       "    }\n",
       "\n",
       "    .dataframe tbody tr th {\n",
       "        vertical-align: top;\n",
       "    }\n",
       "\n",
       "    .dataframe thead th {\n",
       "        text-align: right;\n",
       "    }\n",
       "</style>\n",
       "<table border=\"1\" class=\"dataframe\">\n",
       "  <thead>\n",
       "    <tr style=\"text-align: right;\">\n",
       "      <th></th>\n",
       "      <th>Age</th>\n",
       "      <th>Marital_status_edit</th>\n",
       "      <th>Education</th>\n",
       "      <th>Gestational_age_cat</th>\n",
       "      <th>CBTS</th>\n",
       "      <th>EPDS</th>\n",
       "      <th>HADS</th>\n",
       "      <th>IBQ_cat</th>\n",
       "      <th>sleep_duration</th>\n",
       "      <th>night_awakening</th>\n",
       "      <th>...</th>\n",
       "      <th>EPDS_8</th>\n",
       "      <th>EPDS_9</th>\n",
       "      <th>EPDS_10</th>\n",
       "      <th>HADS_1</th>\n",
       "      <th>HADS_3</th>\n",
       "      <th>HADS_5</th>\n",
       "      <th>HADS_7</th>\n",
       "      <th>HADS_9</th>\n",
       "      <th>HADS_11</th>\n",
       "      <th>HADS_13</th>\n",
       "    </tr>\n",
       "  </thead>\n",
       "  <tbody>\n",
       "    <tr>\n",
       "      <th>0</th>\n",
       "      <td>34.0</td>\n",
       "      <td>2.0</td>\n",
       "      <td>5.0</td>\n",
       "      <td>0</td>\n",
       "      <td>6.0</td>\n",
       "      <td>7.0</td>\n",
       "      <td>9.0</td>\n",
       "      <td>1</td>\n",
       "      <td>1.0</td>\n",
       "      <td>1</td>\n",
       "      <td>...</td>\n",
       "      <td>2.0</td>\n",
       "      <td>2.0</td>\n",
       "      <td>0.0</td>\n",
       "      <td>2.0</td>\n",
       "      <td>1.0</td>\n",
       "      <td>2.0</td>\n",
       "      <td>2.0</td>\n",
       "      <td>0.0</td>\n",
       "      <td>1.0</td>\n",
       "      <td>1.0</td>\n",
       "    </tr>\n",
       "    <tr>\n",
       "      <th>1</th>\n",
       "      <td>33.0</td>\n",
       "      <td>2.0</td>\n",
       "      <td>5.0</td>\n",
       "      <td>1</td>\n",
       "      <td>0.0</td>\n",
       "      <td>0.0</td>\n",
       "      <td>3.0</td>\n",
       "      <td>0</td>\n",
       "      <td>1.0</td>\n",
       "      <td>0</td>\n",
       "      <td>...</td>\n",
       "      <td>0.0</td>\n",
       "      <td>0.0</td>\n",
       "      <td>0.0</td>\n",
       "      <td>1.0</td>\n",
       "      <td>0.0</td>\n",
       "      <td>1.0</td>\n",
       "      <td>0.0</td>\n",
       "      <td>0.0</td>\n",
       "      <td>1.0</td>\n",
       "      <td>0.0</td>\n",
       "    </tr>\n",
       "    <tr>\n",
       "      <th>2</th>\n",
       "      <td>37.0</td>\n",
       "      <td>2.0</td>\n",
       "      <td>5.0</td>\n",
       "      <td>1</td>\n",
       "      <td>9.0</td>\n",
       "      <td>6.0</td>\n",
       "      <td>9.0</td>\n",
       "      <td>0</td>\n",
       "      <td>1.0</td>\n",
       "      <td>0</td>\n",
       "      <td>...</td>\n",
       "      <td>1.0</td>\n",
       "      <td>1.0</td>\n",
       "      <td>0.0</td>\n",
       "      <td>2.0</td>\n",
       "      <td>1.0</td>\n",
       "      <td>1.0</td>\n",
       "      <td>2.0</td>\n",
       "      <td>0.0</td>\n",
       "      <td>3.0</td>\n",
       "      <td>0.0</td>\n",
       "    </tr>\n",
       "    <tr>\n",
       "      <th>3</th>\n",
       "      <td>31.0</td>\n",
       "      <td>2.0</td>\n",
       "      <td>5.0</td>\n",
       "      <td>0</td>\n",
       "      <td>14.0</td>\n",
       "      <td>12.0</td>\n",
       "      <td>13.0</td>\n",
       "      <td>0</td>\n",
       "      <td>1.0</td>\n",
       "      <td>0</td>\n",
       "      <td>...</td>\n",
       "      <td>2.0</td>\n",
       "      <td>1.0</td>\n",
       "      <td>1.0</td>\n",
       "      <td>1.0</td>\n",
       "      <td>3.0</td>\n",
       "      <td>3.0</td>\n",
       "      <td>1.0</td>\n",
       "      <td>2.0</td>\n",
       "      <td>2.0</td>\n",
       "      <td>1.0</td>\n",
       "    </tr>\n",
       "    <tr>\n",
       "      <th>4</th>\n",
       "      <td>36.0</td>\n",
       "      <td>1.0</td>\n",
       "      <td>5.0</td>\n",
       "      <td>1</td>\n",
       "      <td>3.0</td>\n",
       "      <td>3.0</td>\n",
       "      <td>3.0</td>\n",
       "      <td>1</td>\n",
       "      <td>1.0</td>\n",
       "      <td>0</td>\n",
       "      <td>...</td>\n",
       "      <td>0.0</td>\n",
       "      <td>0.0</td>\n",
       "      <td>0.0</td>\n",
       "      <td>1.0</td>\n",
       "      <td>0.0</td>\n",
       "      <td>0.0</td>\n",
       "      <td>1.0</td>\n",
       "      <td>0.0</td>\n",
       "      <td>1.0</td>\n",
       "      <td>0.0</td>\n",
       "    </tr>\n",
       "    <tr>\n",
       "      <th>...</th>\n",
       "      <td>...</td>\n",
       "      <td>...</td>\n",
       "      <td>...</td>\n",
       "      <td>...</td>\n",
       "      <td>...</td>\n",
       "      <td>...</td>\n",
       "      <td>...</td>\n",
       "      <td>...</td>\n",
       "      <td>...</td>\n",
       "      <td>...</td>\n",
       "      <td>...</td>\n",
       "      <td>...</td>\n",
       "      <td>...</td>\n",
       "      <td>...</td>\n",
       "      <td>...</td>\n",
       "      <td>...</td>\n",
       "      <td>...</td>\n",
       "      <td>...</td>\n",
       "      <td>...</td>\n",
       "      <td>...</td>\n",
       "      <td>...</td>\n",
       "    </tr>\n",
       "    <tr>\n",
       "      <th>405</th>\n",
       "      <td>31.0</td>\n",
       "      <td>2.0</td>\n",
       "      <td>3.0</td>\n",
       "      <td>1</td>\n",
       "      <td>3.0</td>\n",
       "      <td>4.0</td>\n",
       "      <td>4.0</td>\n",
       "      <td>0</td>\n",
       "      <td>1.0</td>\n",
       "      <td>0</td>\n",
       "      <td>...</td>\n",
       "      <td>1.0</td>\n",
       "      <td>1.0</td>\n",
       "      <td>0.0</td>\n",
       "      <td>1.0</td>\n",
       "      <td>0.0</td>\n",
       "      <td>0.0</td>\n",
       "      <td>1.0</td>\n",
       "      <td>0.0</td>\n",
       "      <td>2.0</td>\n",
       "      <td>0.0</td>\n",
       "    </tr>\n",
       "    <tr>\n",
       "      <th>406</th>\n",
       "      <td>26.0</td>\n",
       "      <td>2.0</td>\n",
       "      <td>2.0</td>\n",
       "      <td>0</td>\n",
       "      <td>8.0</td>\n",
       "      <td>9.0</td>\n",
       "      <td>14.0</td>\n",
       "      <td>0</td>\n",
       "      <td>1.0</td>\n",
       "      <td>0</td>\n",
       "      <td>...</td>\n",
       "      <td>1.0</td>\n",
       "      <td>1.0</td>\n",
       "      <td>0.0</td>\n",
       "      <td>2.0</td>\n",
       "      <td>3.0</td>\n",
       "      <td>3.0</td>\n",
       "      <td>0.0</td>\n",
       "      <td>2.0</td>\n",
       "      <td>3.0</td>\n",
       "      <td>1.0</td>\n",
       "    </tr>\n",
       "    <tr>\n",
       "      <th>407</th>\n",
       "      <td>26.0</td>\n",
       "      <td>2.0</td>\n",
       "      <td>5.0</td>\n",
       "      <td>1</td>\n",
       "      <td>0.0</td>\n",
       "      <td>3.0</td>\n",
       "      <td>3.0</td>\n",
       "      <td>0</td>\n",
       "      <td>1.0</td>\n",
       "      <td>0</td>\n",
       "      <td>...</td>\n",
       "      <td>1.0</td>\n",
       "      <td>0.0</td>\n",
       "      <td>0.0</td>\n",
       "      <td>0.0</td>\n",
       "      <td>0.0</td>\n",
       "      <td>1.0</td>\n",
       "      <td>1.0</td>\n",
       "      <td>0.0</td>\n",
       "      <td>1.0</td>\n",
       "      <td>0.0</td>\n",
       "    </tr>\n",
       "    <tr>\n",
       "      <th>408</th>\n",
       "      <td>27.0</td>\n",
       "      <td>2.0</td>\n",
       "      <td>5.0</td>\n",
       "      <td>1</td>\n",
       "      <td>0.0</td>\n",
       "      <td>0.0</td>\n",
       "      <td>4.0</td>\n",
       "      <td>0</td>\n",
       "      <td>1.0</td>\n",
       "      <td>0</td>\n",
       "      <td>...</td>\n",
       "      <td>0.0</td>\n",
       "      <td>0.0</td>\n",
       "      <td>0.0</td>\n",
       "      <td>0.0</td>\n",
       "      <td>0.0</td>\n",
       "      <td>1.0</td>\n",
       "      <td>3.0</td>\n",
       "      <td>0.0</td>\n",
       "      <td>0.0</td>\n",
       "      <td>0.0</td>\n",
       "    </tr>\n",
       "    <tr>\n",
       "      <th>409</th>\n",
       "      <td>31.0</td>\n",
       "      <td>2.0</td>\n",
       "      <td>5.0</td>\n",
       "      <td>1</td>\n",
       "      <td>6.0</td>\n",
       "      <td>7.0</td>\n",
       "      <td>7.0</td>\n",
       "      <td>0</td>\n",
       "      <td>1.0</td>\n",
       "      <td>0</td>\n",
       "      <td>...</td>\n",
       "      <td>3.0</td>\n",
       "      <td>0.0</td>\n",
       "      <td>0.0</td>\n",
       "      <td>2.0</td>\n",
       "      <td>0.0</td>\n",
       "      <td>1.0</td>\n",
       "      <td>2.0</td>\n",
       "      <td>0.0</td>\n",
       "      <td>2.0</td>\n",
       "      <td>0.0</td>\n",
       "    </tr>\n",
       "  </tbody>\n",
       "</table>\n",
       "<p>410 rows × 48 columns</p>\n",
       "</div>"
      ],
      "text/plain": [
       "      Age  Marital_status_edit  Education Gestational_age_cat  CBTS  EPDS  \\\n",
       "0    34.0                  2.0        5.0                   0   6.0   7.0   \n",
       "1    33.0                  2.0        5.0                   1   0.0   0.0   \n",
       "2    37.0                  2.0        5.0                   1   9.0   6.0   \n",
       "3    31.0                  2.0        5.0                   0  14.0  12.0   \n",
       "4    36.0                  1.0        5.0                   1   3.0   3.0   \n",
       "..    ...                  ...        ...                 ...   ...   ...   \n",
       "405  31.0                  2.0        3.0                   1   3.0   4.0   \n",
       "406  26.0                  2.0        2.0                   0   8.0   9.0   \n",
       "407  26.0                  2.0        5.0                   1   0.0   3.0   \n",
       "408  27.0                  2.0        5.0                   1   0.0   0.0   \n",
       "409  31.0                  2.0        5.0                   1   6.0   7.0   \n",
       "\n",
       "     HADS  IBQ_cat  sleep_duration  night_awakening  ... EPDS_8  EPDS_9  \\\n",
       "0     9.0        1             1.0                1  ...    2.0     2.0   \n",
       "1     3.0        0             1.0                0  ...    0.0     0.0   \n",
       "2     9.0        0             1.0                0  ...    1.0     1.0   \n",
       "3    13.0        0             1.0                0  ...    2.0     1.0   \n",
       "4     3.0        1             1.0                0  ...    0.0     0.0   \n",
       "..    ...      ...             ...              ...  ...    ...     ...   \n",
       "405   4.0        0             1.0                0  ...    1.0     1.0   \n",
       "406  14.0        0             1.0                0  ...    1.0     1.0   \n",
       "407   3.0        0             1.0                0  ...    1.0     0.0   \n",
       "408   4.0        0             1.0                0  ...    0.0     0.0   \n",
       "409   7.0        0             1.0                0  ...    3.0     0.0   \n",
       "\n",
       "     EPDS_10  HADS_1  HADS_3  HADS_5  HADS_7  HADS_9  HADS_11  HADS_13  \n",
       "0        0.0     2.0     1.0     2.0     2.0     0.0      1.0      1.0  \n",
       "1        0.0     1.0     0.0     1.0     0.0     0.0      1.0      0.0  \n",
       "2        0.0     2.0     1.0     1.0     2.0     0.0      3.0      0.0  \n",
       "3        1.0     1.0     3.0     3.0     1.0     2.0      2.0      1.0  \n",
       "4        0.0     1.0     0.0     0.0     1.0     0.0      1.0      0.0  \n",
       "..       ...     ...     ...     ...     ...     ...      ...      ...  \n",
       "405      0.0     1.0     0.0     0.0     1.0     0.0      2.0      0.0  \n",
       "406      0.0     2.0     3.0     3.0     0.0     2.0      3.0      1.0  \n",
       "407      0.0     0.0     0.0     1.0     1.0     0.0      1.0      0.0  \n",
       "408      0.0     0.0     0.0     1.0     3.0     0.0      0.0      0.0  \n",
       "409      0.0     2.0     0.0     1.0     2.0     0.0      2.0      0.0  \n",
       "\n",
       "[410 rows x 48 columns]"
      ]
     },
     "execution_count": 393,
     "metadata": {},
     "output_type": "execute_result"
    }
   ],
   "source": [
    "df"
   ]
  },
  {
   "cell_type": "markdown",
   "id": "d807b6f5-4d23-43f2-af7e-10a7eb81c9fc",
   "metadata": {},
   "source": [
    "### Random forest: Predict infant method of falling asleep using maternal demographic and mental health information\n"
   ]
  },
  {
   "cell_type": "code",
   "execution_count": 394,
   "id": "667b22a5-143f-49be-bff9-e2f6b2dce3ad",
   "metadata": {},
   "outputs": [
    {
     "data": {
      "text/plain": [
       "((328, 7), (82, 7))"
      ]
     },
     "execution_count": 394,
     "metadata": {},
     "output_type": "execute_result"
    }
   ],
   "source": [
    "X = df[['Age', 'Marital_status_edit', 'Gestational_age_cat', 'Education', 'CBTS', 'EPDS', 'HADS']]\n",
    "y = df['how_asleep']\n",
    "\n",
    "scaler = MinMaxScaler()\n",
    "# transform data\n",
    "scaled = scaler.fit_transform(X)\n",
    "X = pd.DataFrame(scaled, columns=X.columns)\n",
    "\n",
    "X_train, X_test, y_train, y_test = train_test_split(X, y, test_size=0.2, random_state=123)\n",
    "X_train.shape, X_test.shape"
   ]
  },
  {
   "cell_type": "code",
   "execution_count": 395,
   "id": "b7d1ce53-9a90-443b-bdaf-a719eeb2d793",
   "metadata": {},
   "outputs": [],
   "source": [
    "rf = RandomForestClassifier()\n",
    "\n",
    "# Define the hyperparameters grid\n",
    "param_grid = {\n",
    "    'n_estimators': [100, 200, 300],\n",
    "    'max_depth': [5, 10, 20, None],\n",
    "    'min_samples_split': [2, 5, 10],\n",
    "    'min_samples_leaf': [1, 2, 4],\n",
    "    'max_features': ['sqrt', 'log2'],\n",
    "    'criterion': ['gini', 'entropy']\n",
    "}"
   ]
  },
  {
   "cell_type": "code",
   "execution_count": 396,
   "id": "1aa38025-56c4-4f98-a284-62b1e7084e28",
   "metadata": {},
   "outputs": [],
   "source": [
    "\n",
    "# Perform grid search cross-validation\n",
    "grid_search = GridSearchCV(estimator=rf, param_grid=param_grid, cv=5, scoring='accuracy')\n",
    "grid_search.fit(X_train, y_train)\n",
    "\n",
    "# Evaluate the performance of the best model on the test set\n",
    "best_model = grid_search.best_estimator_\n",
    "y_pred = best_model.predict(X_test)"
   ]
  },
  {
   "cell_type": "code",
   "execution_count": 402,
   "id": "ef78b83f-855f-404c-9f31-9fc53a8133f0",
   "metadata": {},
   "outputs": [
    {
     "data": {
      "text/plain": [
       "{'criterion': 'gini',\n",
       " 'max_depth': 10,\n",
       " 'max_features': 'sqrt',\n",
       " 'min_samples_leaf': 2,\n",
       " 'min_samples_split': 5,\n",
       " 'n_estimators': 100}"
      ]
     },
     "execution_count": 402,
     "metadata": {},
     "output_type": "execute_result"
    }
   ],
   "source": [
    "grid_search.best_params_"
   ]
  },
  {
   "cell_type": "code",
   "execution_count": 397,
   "id": "46ae28e9-a408-413f-b9d7-f49ac0a95f83",
   "metadata": {},
   "outputs": [
    {
     "name": "stdout",
     "output_type": "stream",
     "text": [
      "Accuracy: 0.5609756097560976\n",
      "              precision    recall  f1-score   support\n",
      "\n",
      "           0       0.52      0.32      0.40        37\n",
      "           1       0.58      0.76      0.65        45\n",
      "\n",
      "    accuracy                           0.56        82\n",
      "   macro avg       0.55      0.54      0.53        82\n",
      "weighted avg       0.55      0.56      0.54        82\n",
      "\n"
     ]
    }
   ],
   "source": [
    "print(\"Accuracy:\", metrics.accuracy_score(y_test, y_pred))\n",
    "print(metrics.classification_report(y_test, y_pred))"
   ]
  },
  {
   "cell_type": "code",
   "execution_count": 401,
   "id": "4633a7e4-885e-42ab-b30b-dc0a5e4005a0",
   "metadata": {},
   "outputs": [
    {
     "name": "stdout",
     "output_type": "stream",
     "text": [
      "                     importance\n",
      "CBTS                   0.246647\n",
      "HADS                   0.213342\n",
      "Age                    0.209088\n",
      "EPDS                   0.206486\n",
      "Education              0.076838\n",
      "Gestational_age_cat    0.032740\n",
      "Marital_status_edit    0.014860\n"
     ]
    }
   ],
   "source": [
    "feature_importances = pd.DataFrame(best_model.feature_importances_,\n",
    "                                       index = X_train.columns,\n",
    "                                       columns=['importance']).sort_values('importance', ascending=False)\n",
    "print(feature_importances)"
   ]
  },
  {
   "cell_type": "markdown",
   "id": "cce74e8f-6b83-46f6-8dfd-0782a17a1e64",
   "metadata": {},
   "source": [
    "### Gaussian NB: Predict infant method of falling asleep using maternal demographic and mental health information\n"
   ]
  },
  {
   "cell_type": "code",
   "execution_count": 405,
   "id": "a6169963-89af-4175-89b0-c5291c4b8e03",
   "metadata": {},
   "outputs": [
    {
     "name": "stdout",
     "output_type": "stream",
     "text": [
      "Accuracy: 0.5121951219512195\n",
      "Classification Report:               precision    recall  f1-score   support\n",
      "\n",
      "           0       0.44      0.30      0.35        37\n",
      "           1       0.54      0.69      0.61        45\n",
      "\n",
      "    accuracy                           0.51        82\n",
      "   macro avg       0.49      0.49      0.48        82\n",
      "weighted avg       0.50      0.51      0.49        82\n",
      "\n"
     ]
    }
   ],
   "source": [
    "from sklearn.naive_bayes import GaussianNB\n",
    "from sklearn.model_selection import GridSearchCV\n",
    "\n",
    "\n",
    "# Define the Naive Bayes model\n",
    "nb_model = GaussianNB()\n",
    "\n",
    "# Define the parameter grid for hyperparameter tuning\n",
    "param_grid = {'var_smoothing': [1e-09, 1e-08, 1e-07, 1e-06, 1e-05]}\n",
    "\n",
    "# Perform grid search cross-validation to find the best hyperparameters\n",
    "grid_search = GridSearchCV(estimator=nb_model, param_grid=param_grid, cv=5)\n",
    "grid_search.fit(X_train, y_train)\n",
    "\n",
    "# Evaluate the performance of the best model on the test set\n",
    "best_model = grid_search.best_estimator_\n",
    "y_pred = best_model.predict(X_test)\n",
    "accuracy = metrics.accuracy_score(y_test, y_pred)\n",
    "print(\"Accuracy:\", accuracy)\n",
    "\n",
    "report = metrics.classification_report(y_test, y_pred)\n",
    "print('Classification Report:', report)"
   ]
  },
  {
   "cell_type": "markdown",
   "id": "7f71b0a4-6317-4e30-a69e-36ffd56584ea",
   "metadata": {},
   "source": [
    "### XGBoost model: Predict infant high or low negative emotionality dimension using maternal demographic and mental health information"
   ]
  },
  {
   "cell_type": "code",
   "execution_count": 408,
   "id": "388b7bb7-4bb9-43be-b404-4a3e4b9d2fd5",
   "metadata": {},
   "outputs": [
    {
     "data": {
      "text/plain": [
       "((328, 7), (82, 7))"
      ]
     },
     "execution_count": 408,
     "metadata": {},
     "output_type": "execute_result"
    }
   ],
   "source": [
    "#Analyzing how parenting strategies impact the relationship between maternal mental health difficulties and infant sleep behaviors over time\n",
    "X = df[['Age', 'Marital_status_edit', 'Gestational_age_cat','Education', 'CBTS', 'EPDS', 'HADS']]\n",
    "#X = df[['Age', 'Marital_status_edit', 'Education']+mother_cols]\n",
    "#X = df[['Age', 'Marital_status_edit', 'Education', 'maternal_MH_cat']]\n",
    "y = df['IBQ_cat']\n",
    "\n",
    "scaler = MinMaxScaler()\n",
    "# transform data\n",
    "scaled = scaler.fit_transform(X)\n",
    "X = pd.DataFrame(scaled, columns=X.columns)\n",
    "\n",
    "X_train, X_test, y_train, y_test = train_test_split(X, y, test_size=0.2, random_state=123)\n",
    "X_train.shape, X_test.shape"
   ]
  },
  {
   "cell_type": "code",
   "execution_count": 358,
   "id": "e3457e02-7c0c-48f3-bc94-f704efa7c805",
   "metadata": {},
   "outputs": [
    {
     "name": "stdout",
     "output_type": "stream",
     "text": [
      "Best Hyperparameters: {'colsample_bytree': 1.0, 'learning_rate': 1.0, 'max_depth': 5, 'n_estimators': 200, 'subsample': 0.8}\n",
      "Accuracy: 0.5609756097560976\n",
      "Classification Report:               precision    recall  f1-score   support\n",
      "\n",
      "           0       0.62      0.57      0.59        46\n",
      "           1       0.50      0.56      0.53        36\n",
      "\n",
      "    accuracy                           0.56        82\n",
      "   macro avg       0.56      0.56      0.56        82\n",
      "weighted avg       0.57      0.56      0.56        82\n",
      "\n"
     ]
    }
   ],
   "source": [
    "# define the XGBoost model\n",
    "model = xgb.XGBClassifier()\n",
    "\n",
    "# define the hyperparameters grid\n",
    "param_grid = {\n",
    "    'n_estimators': [100, 200, 300],\n",
    "    'max_depth': [3, 5, 7],\n",
    "    'learning_rate': [0.01, 0.1, 1.0],\n",
    "    'subsample': [0.5, 0.8, 1.0],\n",
    "    'colsample_bytree': [0.5, 0.8, 1.0]\n",
    "}\n",
    "\n",
    "# define the GridSearchCV object\n",
    "grid_search = GridSearchCV(model, param_grid=param_grid, cv=5, scoring='precision')\n",
    "\n",
    "# fit the GridSearchCV object to the data\n",
    "grid_search.fit(X_train, y_train)\n",
    "\n",
    "print(\"Best Hyperparameters:\", grid_search.best_params_)\n",
    "# Evaluate the performance of the best model on the test set\n",
    "best_model = grid_search.best_estimator_\n",
    "y_pred = best_model.predict(X_test)\n",
    "accuracy = metrics.accuracy_score(y_test, y_pred)\n",
    "print(\"Accuracy:\", accuracy)\n",
    "\n",
    "report = metrics.classification_report(y_test, y_pred)\n",
    "print('Classification Report:', report)"
   ]
  },
  {
   "cell_type": "markdown",
   "id": "d583d328-29f3-4edb-b58c-1f7fcf1b8d98",
   "metadata": {},
   "source": [
    "### GaussianNB model: Predict infant high or low negative emotionality dimension using maternal demographic and mental health information"
   ]
  },
  {
   "cell_type": "code",
   "execution_count": 409,
   "id": "8d7378d9-8c15-4e0f-a4bb-4e1f7e0fabfa",
   "metadata": {},
   "outputs": [
    {
     "name": "stdout",
     "output_type": "stream",
     "text": [
      "Accuracy: 0.4634146341463415\n",
      "Classification Report:               precision    recall  f1-score   support\n",
      "\n",
      "           0       0.59      0.47      0.52        51\n",
      "           1       0.34      0.45      0.39        31\n",
      "\n",
      "    accuracy                           0.46        82\n",
      "   macro avg       0.46      0.46      0.46        82\n",
      "weighted avg       0.49      0.46      0.47        82\n",
      "\n"
     ]
    }
   ],
   "source": [
    "from sklearn.naive_bayes import GaussianNB\n",
    "from sklearn.model_selection import GridSearchCV\n",
    "\n",
    "nb_model = GaussianNB()\n",
    "\n",
    "param_grid = {'var_smoothing': [1e-09, 1e-08, 1e-07, 1e-06, 1e-05]}\n",
    "\n",
    "grid_search = GridSearchCV(estimator=nb_model, param_grid=param_grid, cv=5)\n",
    "grid_search.fit(X_train, y_train)\n",
    "\n",
    "best_model = grid_search.best_estimator_\n",
    "y_pred = best_model.predict(X_test)\n",
    "accuracy = metrics.accuracy_score(y_test, y_pred)\n",
    "print(\"Accuracy:\", accuracy)\n",
    "\n",
    "report = metrics.classification_report(y_test, y_pred)\n",
    "print('Classification Report:', report)"
   ]
  },
  {
   "cell_type": "code",
   "execution_count": 410,
   "id": "0d549f4a-d14a-42de-952d-4ba86114896c",
   "metadata": {},
   "outputs": [
    {
     "name": "stdout",
     "output_type": "stream",
     "text": [
      "Best Hyperparameters: {'var_smoothing': 1e-09}\n"
     ]
    }
   ],
   "source": [
    "print(\"Best Hyperparameters:\", grid_search.best_params_)\n"
   ]
  },
  {
   "cell_type": "markdown",
   "id": "b1e13e36-543e-4905-9e3f-0e99d9f847fe",
   "metadata": {},
   "source": [
    "### SVM model: Predict infant high or low negative emotionality dimension using maternal demographic and mental health information"
   ]
  },
  {
   "cell_type": "code",
   "execution_count": 360,
   "id": "e2b2b14e-8429-49c9-85f8-2dc4517f570b",
   "metadata": {},
   "outputs": [
    {
     "name": "stdout",
     "output_type": "stream",
     "text": [
      "Best hyperparameters: {'C': 1, 'gamma': 'scale', 'kernel': 'rbf'}\n",
      "Accuracy: 0.5609756097560976\n",
      "Classification Report:               precision    recall  f1-score   support\n",
      "\n",
      "           0       0.66      0.46      0.54        46\n",
      "           1       0.50      0.69      0.58        36\n",
      "\n",
      "    accuracy                           0.56        82\n",
      "   macro avg       0.58      0.58      0.56        82\n",
      "weighted avg       0.59      0.56      0.56        82\n",
      "\n"
     ]
    }
   ],
   "source": [
    "svm_model = SVC()\n",
    "\n",
    "param_grid = {'C': [0.1, 1, 10], 'kernel': ['linear', 'rbf'], 'gamma': ['scale', 'auto']}\n",
    "\n",
    "grid_search = GridSearchCV(estimator=svm_model, param_grid=param_grid, cv=5)\n",
    "grid_search.fit(X_train, y_train)\n",
    "\n",
    "print(\"Best hyperparameters:\", grid_search.best_params_)\n",
    "\n",
    "best_model = grid_search.best_estimator_\n",
    "y_pred = best_model.predict(X_test)\n",
    "\n",
    "accuracy = metrics.accuracy_score(y_test, y_pred)\n",
    "print(\"Accuracy:\", accuracy)\n",
    "\n",
    "report = metrics.classification_report(y_test, y_pred)\n",
    "print('Classification Report:', report)"
   ]
  },
  {
   "cell_type": "markdown",
   "id": "fc41fa3d-d0bb-4fca-866c-8d29c75f23dd",
   "metadata": {},
   "source": [
    "### XGBoost model: Predict infant normal or abnormal(?) sleep length at night using maternal demographic and mental health information"
   ]
  },
  {
   "cell_type": "code",
   "execution_count": 354,
   "id": "03fafdb9-1773-4d46-bd1f-9196eaa1f365",
   "metadata": {},
   "outputs": [
    {
     "data": {
      "text/plain": [
       "((327, 7), (82, 7))"
      ]
     },
     "execution_count": 354,
     "metadata": {},
     "output_type": "execute_result"
    }
   ],
   "source": [
    "X = df[['Age', 'Marital_status_edit', 'Gestational_age_cat', 'Education', 'CBTS', 'EPDS', 'HADS']]\n",
    "y = df['sleep_duration']\n",
    "\n",
    "scaler = MinMaxScaler()\n",
    "# transform data\n",
    "scaled = scaler.fit_transform(X)\n",
    "X = pd.DataFrame(scaled, columns=X.columns)\n",
    "\n",
    "X_train, X_test, y_train, y_test = train_test_split(X, y, test_size=0.2, random_state=123, stratify=y)\n",
    "X_train.shape, X_test.shape"
   ]
  },
  {
   "cell_type": "code",
   "execution_count": 355,
   "id": "fe1527d3-2455-4c12-84d5-c46751235734",
   "metadata": {},
   "outputs": [
    {
     "name": "stdout",
     "output_type": "stream",
     "text": [
      "Best Hyperparameters: {'colsample_bytree': 0.5, 'learning_rate': 1.0, 'max_depth': 3, 'n_estimators': 100, 'subsample': 0.5}\n"
     ]
    }
   ],
   "source": [
    "# define the XGBoost model\n",
    "model = xgb.XGBClassifier()\n",
    "\n",
    "# define the hyperparameters grid\n",
    "param_grid = {\n",
    "    'n_estimators': [100, 200, 300],\n",
    "    'max_depth': [3, 5, 7],\n",
    "    'learning_rate': [0.01, 0.1, 1.0],\n",
    "    'subsample': [0.5, 0.8, 1.0],\n",
    "    'colsample_bytree': [0.5, 0.8, 1.0]\n",
    "}\n",
    "\n",
    "# define the GridSearchCV object\n",
    "grid_search = GridSearchCV(model, param_grid=param_grid, cv=5, scoring='precision')\n",
    "\n",
    "# fit the GridSearchCV object to the data\n",
    "grid_search.fit(X_train, y_train)\n",
    "\n",
    "print(\"Best Hyperparameters:\", grid_search.best_params_)"
   ]
  },
  {
   "cell_type": "code",
   "execution_count": 356,
   "id": "d01746be-f7dd-45c3-9e9f-d3224b41ded0",
   "metadata": {},
   "outputs": [
    {
     "name": "stdout",
     "output_type": "stream",
     "text": [
      "Accuracy: 0.7804878048780488\n",
      "Classification Report:               precision    recall  f1-score   support\n",
      "\n",
      "         0.0       0.36      0.27      0.31        15\n",
      "         1.0       0.85      0.90      0.87        67\n",
      "\n",
      "    accuracy                           0.78        82\n",
      "   macro avg       0.60      0.58      0.59        82\n",
      "weighted avg       0.76      0.78      0.77        82\n",
      "\n"
     ]
    }
   ],
   "source": [
    "# Evaluate the performance of the best model on the test set\n",
    "best_model = grid_search.best_estimator_\n",
    "y_pred = best_model.predict(X_test)\n",
    "accuracy = metrics.accuracy_score(y_test, y_pred)\n",
    "print(\"Accuracy:\", accuracy)\n",
    "\n",
    "report = metrics.classification_report(y_test, y_pred)\n",
    "print('Classification Report:', report)"
   ]
  },
  {
   "cell_type": "code",
   "execution_count": null,
   "id": "add0b734-8119-461f-9d14-66c9670557b6",
   "metadata": {},
   "outputs": [],
   "source": []
  }
 ],
 "metadata": {
  "kernelspec": {
   "display_name": "Python 3 (ipykernel)",
   "language": "python",
   "name": "python3"
  },
  "language_info": {
   "codemirror_mode": {
    "name": "ipython",
    "version": 3
   },
   "file_extension": ".py",
   "mimetype": "text/x-python",
   "name": "python",
   "nbconvert_exporter": "python",
   "pygments_lexer": "ipython3",
   "version": "3.9.13"
  }
 },
 "nbformat": 4,
 "nbformat_minor": 5
}
